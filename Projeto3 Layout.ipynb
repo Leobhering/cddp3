{
 "cells": [
  {
   "cell_type": "markdown",
   "metadata": {},
   "source": [
    "___\n",
    "# Ciência dos Dados - PROJETO 3 - INSPER"
   ]
  },
  {
   "cell_type": "markdown",
   "metadata": {},
   "source": [
    "___\n",
    "## Leonardo Bhering \n",
    "\n",
    "## Gustavo Molina"
   ]
  },
  {
   "cell_type": "markdown",
   "metadata": {},
   "source": [
    "___\n",
    "\n",
    "## INTRODUÇÃO"
   ]
  },
  {
   "cell_type": "markdown",
   "metadata": {},
   "source": [
    "Este projeto tem como objetivo prever qual o valor de mercado de um jogador de futebol com base em algumas variaveis, como sua idade e seus números da temporada."
   ]
  },
  {
   "cell_type": "markdown",
   "metadata": {},
   "source": [
    "___\n",
    "## MINERANDO DADOS e CARACTERÍSTICAS DO DATASET"
   ]
  },
  {
   "cell_type": "markdown",
   "metadata": {},
   "source": [
    "[Detalhe aqui as características da base de dados além da análise descritiva.]"
   ]
  },
  {
   "cell_type": "code",
   "execution_count": 4,
   "metadata": {
    "collapsed": true
   },
   "outputs": [],
   "source": [
    "import pandas as pd\n",
    "import os\n",
    "import matplotlib.pyplot as plt\n",
    "import numpy as np\n",
    "from numpy import arange\n",
    "from sklearn.model_selection import train_test_split"
   ]
  },
  {
   "cell_type": "code",
   "execution_count": 5,
   "metadata": {},
   "outputs": [
    {
     "name": "stdout",
     "output_type": "stream",
     "text": [
      "Esperamos trabalhar no diretório\n",
      "C:\\Users\\Leonardo\\Documents\\INSPER\\CiDadosDP\\Projetos\\Projeto 3\n"
     ]
    }
   ],
   "source": [
    "print('Esperamos trabalhar no diretório')\n",
    "print(os.getcwd())"
   ]
  },
  {
   "cell_type": "markdown",
   "metadata": {},
   "source": [
    "### BASE DE DADOS"
   ]
  },
  {
   "cell_type": "code",
   "execution_count": 6,
   "metadata": {
    "collapsed": true
   },
   "outputs": [],
   "source": [
    "dados = pd.read_excel('jogadores.xlsx')"
   ]
  },
  {
   "cell_type": "code",
   "execution_count": 7,
   "metadata": {},
   "outputs": [
    {
     "data": {
      "text/plain": [
       "Rank                                       int64\n",
       "Jogador                                   object\n",
       "Posição                                   object\n",
       "Idade                                      int64\n",
       "Valor de Mercado (em milhões de euros)     int64\n",
       "Jogos                                      int64\n",
       "Gols                                       int64\n",
       "Assistencias                               int64\n",
       "dtype: object"
      ]
     },
     "execution_count": 7,
     "metadata": {},
     "output_type": "execute_result"
    }
   ],
   "source": [
    "dados.dtypes"
   ]
  },
  {
   "cell_type": "code",
   "execution_count": 11,
   "metadata": {},
   "outputs": [
    {
     "name": "stdout",
     "output_type": "stream",
     "text": [
      "Base de dados com a qual trabalharemos:\n"
     ]
    },
    {
     "data": {
      "text/html": [
       "<div>\n",
       "<style>\n",
       "    .dataframe thead tr:only-child th {\n",
       "        text-align: right;\n",
       "    }\n",
       "\n",
       "    .dataframe thead th {\n",
       "        text-align: left;\n",
       "    }\n",
       "\n",
       "    .dataframe tbody tr th {\n",
       "        vertical-align: top;\n",
       "    }\n",
       "</style>\n",
       "<table border=\"1\" class=\"dataframe\">\n",
       "  <thead>\n",
       "    <tr style=\"text-align: right;\">\n",
       "      <th></th>\n",
       "      <th>Rank</th>\n",
       "      <th>Jogador</th>\n",
       "      <th>Posição</th>\n",
       "      <th>Idade</th>\n",
       "      <th>Valor de Mercado (em milhões de euros)</th>\n",
       "      <th>Jogos</th>\n",
       "      <th>Gols</th>\n",
       "      <th>Assistencias</th>\n",
       "    </tr>\n",
       "  </thead>\n",
       "  <tbody>\n",
       "    <tr>\n",
       "      <th>0</th>\n",
       "      <td>1</td>\n",
       "      <td>Neymar</td>\n",
       "      <td>Extremo Esquerdo</td>\n",
       "      <td>26</td>\n",
       "      <td>180</td>\n",
       "      <td>32</td>\n",
       "      <td>29</td>\n",
       "      <td>19</td>\n",
       "    </tr>\n",
       "    <tr>\n",
       "      <th>1</th>\n",
       "      <td>2</td>\n",
       "      <td>Lionel Messi</td>\n",
       "      <td>Extremo Direito</td>\n",
       "      <td>30</td>\n",
       "      <td>180</td>\n",
       "      <td>55</td>\n",
       "      <td>45</td>\n",
       "      <td>18</td>\n",
       "    </tr>\n",
       "    <tr>\n",
       "      <th>2</th>\n",
       "      <td>3</td>\n",
       "      <td>Kylian Mbappé</td>\n",
       "      <td>Extremo Direito</td>\n",
       "      <td>19</td>\n",
       "      <td>120</td>\n",
       "      <td>50</td>\n",
       "      <td>23</td>\n",
       "      <td>19</td>\n",
       "    </tr>\n",
       "    <tr>\n",
       "      <th>3</th>\n",
       "      <td>4</td>\n",
       "      <td>Harry Kane</td>\n",
       "      <td>Ponta de Lança</td>\n",
       "      <td>24</td>\n",
       "      <td>120</td>\n",
       "      <td>48</td>\n",
       "      <td>41</td>\n",
       "      <td>5</td>\n",
       "    </tr>\n",
       "    <tr>\n",
       "      <th>4</th>\n",
       "      <td>5</td>\n",
       "      <td>Cristiano Ronaldo</td>\n",
       "      <td>Ponta de Lança</td>\n",
       "      <td>33</td>\n",
       "      <td>120</td>\n",
       "      <td>45</td>\n",
       "      <td>46</td>\n",
       "      <td>8</td>\n",
       "    </tr>\n",
       "    <tr>\n",
       "      <th>5</th>\n",
       "      <td>6</td>\n",
       "      <td>Kevin De Bruyne</td>\n",
       "      <td>Médio Ofensivo</td>\n",
       "      <td>26</td>\n",
       "      <td>110</td>\n",
       "      <td>55</td>\n",
       "      <td>13</td>\n",
       "      <td>23</td>\n",
       "    </tr>\n",
       "    <tr>\n",
       "      <th>6</th>\n",
       "      <td>7</td>\n",
       "      <td>Paulo Dybala</td>\n",
       "      <td>Segundo Avançado</td>\n",
       "      <td>24</td>\n",
       "      <td>100</td>\n",
       "      <td>48</td>\n",
       "      <td>26</td>\n",
       "      <td>7</td>\n",
       "    </tr>\n",
       "    <tr>\n",
       "      <th>7</th>\n",
       "      <td>8</td>\n",
       "      <td>Antoine Griezmann</td>\n",
       "      <td>Ponta de Lança</td>\n",
       "      <td>27</td>\n",
       "      <td>100</td>\n",
       "      <td>53</td>\n",
       "      <td>30</td>\n",
       "      <td>15</td>\n",
       "    </tr>\n",
       "    <tr>\n",
       "      <th>8</th>\n",
       "      <td>9</td>\n",
       "      <td>Philippe Coutinho</td>\n",
       "      <td>Extremo Esquerdo</td>\n",
       "      <td>25</td>\n",
       "      <td>100</td>\n",
       "      <td>45</td>\n",
       "      <td>23</td>\n",
       "      <td>14</td>\n",
       "    </tr>\n",
       "    <tr>\n",
       "      <th>9</th>\n",
       "      <td>10</td>\n",
       "      <td>Eden Hazard</td>\n",
       "      <td>Extremo Esquerdo</td>\n",
       "      <td>27</td>\n",
       "      <td>100</td>\n",
       "      <td>54</td>\n",
       "      <td>18</td>\n",
       "      <td>14</td>\n",
       "    </tr>\n",
       "    <tr>\n",
       "      <th>10</th>\n",
       "      <td>11</td>\n",
       "      <td>Paul Pogba</td>\n",
       "      <td>Médio Central</td>\n",
       "      <td>25</td>\n",
       "      <td>90</td>\n",
       "      <td>39</td>\n",
       "      <td>7</td>\n",
       "      <td>13</td>\n",
       "    </tr>\n",
       "    <tr>\n",
       "      <th>11</th>\n",
       "      <td>12</td>\n",
       "      <td>Robert Lewandowski</td>\n",
       "      <td>Ponta de Lança</td>\n",
       "      <td>29</td>\n",
       "      <td>90</td>\n",
       "      <td>50</td>\n",
       "      <td>42</td>\n",
       "      <td>5</td>\n",
       "    </tr>\n",
       "    <tr>\n",
       "      <th>12</th>\n",
       "      <td>13</td>\n",
       "      <td>Romelu Lukaku</td>\n",
       "      <td>Ponta de Lança</td>\n",
       "      <td>25</td>\n",
       "      <td>85</td>\n",
       "      <td>54</td>\n",
       "      <td>32</td>\n",
       "      <td>10</td>\n",
       "    </tr>\n",
       "    <tr>\n",
       "      <th>13</th>\n",
       "      <td>14</td>\n",
       "      <td>Luis Suárez</td>\n",
       "      <td>Ponta de Lança</td>\n",
       "      <td>31</td>\n",
       "      <td>85</td>\n",
       "      <td>53</td>\n",
       "      <td>32</td>\n",
       "      <td>18</td>\n",
       "    </tr>\n",
       "    <tr>\n",
       "      <th>14</th>\n",
       "      <td>15</td>\n",
       "      <td>Ousmane Dembélé</td>\n",
       "      <td>Extremo Direito</td>\n",
       "      <td>21</td>\n",
       "      <td>80</td>\n",
       "      <td>26</td>\n",
       "      <td>4</td>\n",
       "      <td>9</td>\n",
       "    </tr>\n",
       "  </tbody>\n",
       "</table>\n",
       "</div>"
      ],
      "text/plain": [
       "    Rank             Jogador           Posição  Idade  \\\n",
       "0      1              Neymar  Extremo Esquerdo     26   \n",
       "1      2        Lionel Messi   Extremo Direito     30   \n",
       "2      3       Kylian Mbappé   Extremo Direito     19   \n",
       "3      4          Harry Kane    Ponta de Lança     24   \n",
       "4      5   Cristiano Ronaldo    Ponta de Lança     33   \n",
       "5      6     Kevin De Bruyne    Médio Ofensivo     26   \n",
       "6      7        Paulo Dybala  Segundo Avançado     24   \n",
       "7      8   Antoine Griezmann    Ponta de Lança     27   \n",
       "8      9   Philippe Coutinho  Extremo Esquerdo     25   \n",
       "9     10         Eden Hazard  Extremo Esquerdo     27   \n",
       "10    11          Paul Pogba     Médio Central     25   \n",
       "11    12  Robert Lewandowski    Ponta de Lança     29   \n",
       "12    13       Romelu Lukaku    Ponta de Lança     25   \n",
       "13    14         Luis Suárez    Ponta de Lança     31   \n",
       "14    15     Ousmane Dembélé   Extremo Direito     21   \n",
       "\n",
       "    Valor de Mercado (em milhões de euros)  Jogos  Gols  Assistencias  \n",
       "0                                      180     32    29            19  \n",
       "1                                      180     55    45            18  \n",
       "2                                      120     50    23            19  \n",
       "3                                      120     48    41             5  \n",
       "4                                      120     45    46             8  \n",
       "5                                      110     55    13            23  \n",
       "6                                      100     48    26             7  \n",
       "7                                      100     53    30            15  \n",
       "8                                      100     45    23            14  \n",
       "9                                      100     54    18            14  \n",
       "10                                      90     39     7            13  \n",
       "11                                      90     50    42             5  \n",
       "12                                      85     54    32            10  \n",
       "13                                      85     53    32            18  \n",
       "14                                      80     26     4             9  "
      ]
     },
     "execution_count": 11,
     "metadata": {},
     "output_type": "execute_result"
    }
   ],
   "source": [
    "print('Base de dados com a qual trabalharemos:')\n",
    "dados.head(15)"
   ]
  },
  {
   "cell_type": "code",
   "execution_count": 14,
   "metadata": {},
   "outputs": [
    {
     "data": {
      "text/html": [
       "<div>\n",
       "<style>\n",
       "    .dataframe thead tr:only-child th {\n",
       "        text-align: right;\n",
       "    }\n",
       "\n",
       "    .dataframe thead th {\n",
       "        text-align: left;\n",
       "    }\n",
       "\n",
       "    .dataframe tbody tr th {\n",
       "        vertical-align: top;\n",
       "    }\n",
       "</style>\n",
       "<table border=\"1\" class=\"dataframe\">\n",
       "  <thead>\n",
       "    <tr style=\"text-align: right;\">\n",
       "      <th></th>\n",
       "      <th>Posição</th>\n",
       "      <th>Idade</th>\n",
       "      <th>Valor de Mercado (em milhões de euros)</th>\n",
       "      <th>Jogos</th>\n",
       "      <th>Gols</th>\n",
       "      <th>Assistencias</th>\n",
       "    </tr>\n",
       "  </thead>\n",
       "  <tbody>\n",
       "    <tr>\n",
       "      <th>0</th>\n",
       "      <td>Extremo Esquerdo</td>\n",
       "      <td>26</td>\n",
       "      <td>180</td>\n",
       "      <td>32</td>\n",
       "      <td>29</td>\n",
       "      <td>19</td>\n",
       "    </tr>\n",
       "    <tr>\n",
       "      <th>1</th>\n",
       "      <td>Extremo Direito</td>\n",
       "      <td>30</td>\n",
       "      <td>180</td>\n",
       "      <td>55</td>\n",
       "      <td>45</td>\n",
       "      <td>18</td>\n",
       "    </tr>\n",
       "    <tr>\n",
       "      <th>2</th>\n",
       "      <td>Extremo Direito</td>\n",
       "      <td>19</td>\n",
       "      <td>120</td>\n",
       "      <td>50</td>\n",
       "      <td>23</td>\n",
       "      <td>19</td>\n",
       "    </tr>\n",
       "    <tr>\n",
       "      <th>3</th>\n",
       "      <td>Ponta de Lança</td>\n",
       "      <td>24</td>\n",
       "      <td>120</td>\n",
       "      <td>48</td>\n",
       "      <td>41</td>\n",
       "      <td>5</td>\n",
       "    </tr>\n",
       "    <tr>\n",
       "      <th>4</th>\n",
       "      <td>Ponta de Lança</td>\n",
       "      <td>33</td>\n",
       "      <td>120</td>\n",
       "      <td>45</td>\n",
       "      <td>46</td>\n",
       "      <td>8</td>\n",
       "    </tr>\n",
       "  </tbody>\n",
       "</table>\n",
       "</div>"
      ],
      "text/plain": [
       "            Posição  Idade  Valor de Mercado (em milhões de euros)  Jogos  \\\n",
       "0  Extremo Esquerdo     26                                     180     32   \n",
       "1   Extremo Direito     30                                     180     55   \n",
       "2   Extremo Direito     19                                     120     50   \n",
       "3    Ponta de Lança     24                                     120     48   \n",
       "4    Ponta de Lança     33                                     120     45   \n",
       "\n",
       "   Gols  Assistencias  \n",
       "0    29            19  \n",
       "1    45            18  \n",
       "2    23            19  \n",
       "3    41             5  \n",
       "4    46             8  "
      ]
     },
     "execution_count": 14,
     "metadata": {},
     "output_type": "execute_result"
    }
   ],
   "source": [
    "dados_filtro = dados.iloc[0:,[2,3,4,5,6,7]]\n",
    "dados_filtro.head()"
   ]
  },
  {
   "cell_type": "markdown",
   "metadata": {},
   "source": [
    "### ANÁLISE DESCRITIVA"
   ]
  },
  {
   "cell_type": "code",
   "execution_count": 17,
   "metadata": {
    "collapsed": true
   },
   "outputs": [],
   "source": [
    "#Dividindo a base de dados em 75% para treinamento e 25% para teste\n",
    "treinamento, teste = train_test_split(dados_filtro, test_size=0.1)"
   ]
  },
  {
   "cell_type": "code",
   "execution_count": 22,
   "metadata": {
    "scrolled": true
   },
   "outputs": [
    {
     "data": {
      "text/html": [
       "<div>\n",
       "<style>\n",
       "    .dataframe thead tr:only-child th {\n",
       "        text-align: right;\n",
       "    }\n",
       "\n",
       "    .dataframe thead th {\n",
       "        text-align: left;\n",
       "    }\n",
       "\n",
       "    .dataframe tbody tr th {\n",
       "        vertical-align: top;\n",
       "    }\n",
       "</style>\n",
       "<table border=\"1\" class=\"dataframe\">\n",
       "  <thead>\n",
       "    <tr style=\"text-align: right;\">\n",
       "      <th></th>\n",
       "      <th>Posição</th>\n",
       "      <th>Idade</th>\n",
       "      <th>Valor de Mercado (em milhões de euros)</th>\n",
       "      <th>Jogos</th>\n",
       "      <th>Gols</th>\n",
       "      <th>Assistencias</th>\n",
       "    </tr>\n",
       "  </thead>\n",
       "  <tbody>\n",
       "    <tr>\n",
       "      <th>156</th>\n",
       "      <td>Defesa Central</td>\n",
       "      <td>22</td>\n",
       "      <td>30</td>\n",
       "      <td>37</td>\n",
       "      <td>0</td>\n",
       "      <td>2</td>\n",
       "    </tr>\n",
       "    <tr>\n",
       "      <th>148</th>\n",
       "      <td>Médio Direito</td>\n",
       "      <td>21</td>\n",
       "      <td>30</td>\n",
       "      <td>44</td>\n",
       "      <td>2</td>\n",
       "      <td>9</td>\n",
       "    </tr>\n",
       "    <tr>\n",
       "      <th>172</th>\n",
       "      <td>Extremo Esquerdo</td>\n",
       "      <td>24</td>\n",
       "      <td>28</td>\n",
       "      <td>55</td>\n",
       "      <td>25</td>\n",
       "      <td>17</td>\n",
       "    </tr>\n",
       "    <tr>\n",
       "      <th>44</th>\n",
       "      <td>Ponta de Lança</td>\n",
       "      <td>22</td>\n",
       "      <td>60</td>\n",
       "      <td>49</td>\n",
       "      <td>22</td>\n",
       "      <td>10</td>\n",
       "    </tr>\n",
       "    <tr>\n",
       "      <th>39</th>\n",
       "      <td>Médio Ofensivo</td>\n",
       "      <td>26</td>\n",
       "      <td>65</td>\n",
       "      <td>42</td>\n",
       "      <td>8</td>\n",
       "      <td>17</td>\n",
       "    </tr>\n",
       "    <tr>\n",
       "      <th>60</th>\n",
       "      <td>Defesa Central</td>\n",
       "      <td>24</td>\n",
       "      <td>55</td>\n",
       "      <td>41</td>\n",
       "      <td>2</td>\n",
       "      <td>3</td>\n",
       "    </tr>\n",
       "    <tr>\n",
       "      <th>154</th>\n",
       "      <td>Lateral Esquerdo</td>\n",
       "      <td>22</td>\n",
       "      <td>30</td>\n",
       "      <td>38</td>\n",
       "      <td>0</td>\n",
       "      <td>5</td>\n",
       "    </tr>\n",
       "    <tr>\n",
       "      <th>122</th>\n",
       "      <td>Extremo Direito</td>\n",
       "      <td>20</td>\n",
       "      <td>35</td>\n",
       "      <td>44</td>\n",
       "      <td>9</td>\n",
       "      <td>12</td>\n",
       "    </tr>\n",
       "    <tr>\n",
       "      <th>42</th>\n",
       "      <td>Médio Defensivo</td>\n",
       "      <td>27</td>\n",
       "      <td>60</td>\n",
       "      <td>50</td>\n",
       "      <td>1</td>\n",
       "      <td>2</td>\n",
       "    </tr>\n",
       "    <tr>\n",
       "      <th>195</th>\n",
       "      <td>Ponta de Lança</td>\n",
       "      <td>22</td>\n",
       "      <td>25</td>\n",
       "      <td>43</td>\n",
       "      <td>10</td>\n",
       "      <td>2</td>\n",
       "    </tr>\n",
       "    <tr>\n",
       "      <th>74</th>\n",
       "      <td>Lateral Esquerdo</td>\n",
       "      <td>27</td>\n",
       "      <td>50</td>\n",
       "      <td>40</td>\n",
       "      <td>4</td>\n",
       "      <td>6</td>\n",
       "    </tr>\n",
       "    <tr>\n",
       "      <th>48</th>\n",
       "      <td>Defesa Central</td>\n",
       "      <td>24</td>\n",
       "      <td>60</td>\n",
       "      <td>44</td>\n",
       "      <td>1</td>\n",
       "      <td>0</td>\n",
       "    </tr>\n",
       "    <tr>\n",
       "      <th>73</th>\n",
       "      <td>Defesa Central</td>\n",
       "      <td>26</td>\n",
       "      <td>50</td>\n",
       "      <td>47</td>\n",
       "      <td>5</td>\n",
       "      <td>1</td>\n",
       "    </tr>\n",
       "    <tr>\n",
       "      <th>28</th>\n",
       "      <td>Guarda-Redes</td>\n",
       "      <td>25</td>\n",
       "      <td>70</td>\n",
       "      <td>49</td>\n",
       "      <td>0</td>\n",
       "      <td>0</td>\n",
       "    </tr>\n",
       "    <tr>\n",
       "      <th>183</th>\n",
       "      <td>Médio Ofensivo</td>\n",
       "      <td>20</td>\n",
       "      <td>25</td>\n",
       "      <td>37</td>\n",
       "      <td>3</td>\n",
       "      <td>7</td>\n",
       "    </tr>\n",
       "  </tbody>\n",
       "</table>\n",
       "</div>"
      ],
      "text/plain": [
       "              Posição  Idade  Valor de Mercado (em milhões de euros)  Jogos  \\\n",
       "156    Defesa Central     22                                      30     37   \n",
       "148     Médio Direito     21                                      30     44   \n",
       "172  Extremo Esquerdo     24                                      28     55   \n",
       "44     Ponta de Lança     22                                      60     49   \n",
       "39     Médio Ofensivo     26                                      65     42   \n",
       "60     Defesa Central     24                                      55     41   \n",
       "154  Lateral Esquerdo     22                                      30     38   \n",
       "122   Extremo Direito     20                                      35     44   \n",
       "42    Médio Defensivo     27                                      60     50   \n",
       "195    Ponta de Lança     22                                      25     43   \n",
       "74   Lateral Esquerdo     27                                      50     40   \n",
       "48     Defesa Central     24                                      60     44   \n",
       "73     Defesa Central     26                                      50     47   \n",
       "28       Guarda-Redes     25                                      70     49   \n",
       "183    Médio Ofensivo     20                                      25     37   \n",
       "\n",
       "     Gols  Assistencias  \n",
       "156     0             2  \n",
       "148     2             9  \n",
       "172    25            17  \n",
       "44     22            10  \n",
       "39      8            17  \n",
       "60      2             3  \n",
       "154     0             5  \n",
       "122     9            12  \n",
       "42      1             2  \n",
       "195    10             2  \n",
       "74      4             6  \n",
       "48      1             0  \n",
       "73      5             1  \n",
       "28      0             0  \n",
       "183     3             7  "
      ]
     },
     "execution_count": 22,
     "metadata": {},
     "output_type": "execute_result"
    }
   ],
   "source": [
    "teste.head(15)"
   ]
  },
  {
   "cell_type": "markdown",
   "metadata": {},
   "source": [
    "___\n",
    "## MODELOS DE PREDIÇÃO"
   ]
  },
  {
   "cell_type": "markdown",
   "metadata": {
    "collapsed": true
   },
   "source": [
    "[O tópico C.PROCESSO E ESTATÍSTICAS DE VALIDAÇÃO estará dentro deste tópico. Organize-o aqui de forma clara!]\n",
    "\n",
    "[ORGANIZE AQUI TODOS OS MODELOS DE PREDIÇÃO NECESSÁRIOS NESTE PROJETO!]"
   ]
  },
  {
   "cell_type": "markdown",
   "metadata": {
    "collapsed": true
   },
   "source": [
    "o MODELO DE PREDIÇÃO PELA MÉDIA\n",
    "\n",
    "o MODELO DOS K VIZINHOS MAIS PRÓXIMOS (K-Nearest Neighbors Regression)\n",
    "\n",
    "o MODELO DE REGRESSÃO LINEAR (Multiple Linear Regression)\n",
    "\n",
    "o MODELO DE ÁRVORES DE REGRESSÃO (Decision Tree Regression)"
   ]
  },
  {
   "cell_type": "code",
   "execution_count": null,
   "metadata": {
    "collapsed": true
   },
   "outputs": [],
   "source": []
  },
  {
   "cell_type": "code",
   "execution_count": null,
   "metadata": {
    "collapsed": true
   },
   "outputs": [],
   "source": []
  },
  {
   "cell_type": "code",
   "execution_count": null,
   "metadata": {
    "collapsed": true
   },
   "outputs": [],
   "source": []
  },
  {
   "cell_type": "code",
   "execution_count": null,
   "metadata": {
    "collapsed": true
   },
   "outputs": [],
   "source": []
  },
  {
   "cell_type": "code",
   "execution_count": null,
   "metadata": {
    "collapsed": true
   },
   "outputs": [],
   "source": []
  },
  {
   "cell_type": "markdown",
   "metadata": {},
   "source": [
    "___\n",
    "## CONCLUSÃO"
   ]
  },
  {
   "cell_type": "code",
   "execution_count": null,
   "metadata": {
    "collapsed": true
   },
   "outputs": [],
   "source": []
  },
  {
   "cell_type": "code",
   "execution_count": null,
   "metadata": {
    "collapsed": true
   },
   "outputs": [],
   "source": []
  },
  {
   "cell_type": "code",
   "execution_count": null,
   "metadata": {
    "collapsed": true
   },
   "outputs": [],
   "source": []
  },
  {
   "cell_type": "markdown",
   "metadata": {},
   "source": [
    "___\n",
    "## REFERÊNCIAS BIBLIOGRÁFICAS"
   ]
  },
  {
   "cell_type": "code",
   "execution_count": null,
   "metadata": {
    "collapsed": true
   },
   "outputs": [],
   "source": []
  },
  {
   "cell_type": "code",
   "execution_count": null,
   "metadata": {
    "collapsed": true
   },
   "outputs": [],
   "source": []
  },
  {
   "cell_type": "code",
   "execution_count": null,
   "metadata": {
    "collapsed": true
   },
   "outputs": [],
   "source": []
  },
  {
   "cell_type": "code",
   "execution_count": null,
   "metadata": {
    "collapsed": true
   },
   "outputs": [],
   "source": []
  }
 ],
 "metadata": {
  "anaconda-cloud": {},
  "kernelspec": {
   "display_name": "Python 3",
   "language": "python",
   "name": "python3"
  },
  "language_info": {
   "codemirror_mode": {
    "name": "ipython",
    "version": 3
   },
   "file_extension": ".py",
   "mimetype": "text/x-python",
   "name": "python",
   "nbconvert_exporter": "python",
   "pygments_lexer": "ipython3",
   "version": "3.6.0"
  }
 },
 "nbformat": 4,
 "nbformat_minor": 1
}
