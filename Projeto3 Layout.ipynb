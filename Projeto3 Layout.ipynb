{
 "cells": [
  {
   "cell_type": "markdown",
   "metadata": {},
   "source": [
    "___\n",
    "# Ciência dos Dados - PROJETO 3 - INSPER"
   ]
  },
  {
   "cell_type": "markdown",
   "metadata": {},
   "source": [
    "___\n",
    "## Leonardo Bhering \n",
    "\n",
    "## Gustavo Molina"
   ]
  },
  {
   "cell_type": "markdown",
   "metadata": {},
   "source": [
    "___\n",
    "\n",
    "## INTRODUÇÃO"
   ]
  },
  {
   "cell_type": "markdown",
   "metadata": {},
   "source": [
    "A cada dia que passa o Futebol movimenta mais e mais dinheiro. O esporte mais popular do planeta tem sido dominado pelos times com maior poder financeiro e atraido investimentos de grandes executivos e poderosos, incluindo investidores do mundo árabe e da China. Com todo esse investimento, os times com maior poder aquisitivo oferecem hoje valores que eram gastos apenas nos jogadores de elite antigamente, para jogadores medianos. Com esse movimento, vários veículos especializados no mercado da bola começaram a estudar e estimar os valores de transferência dos jogadores. Vários fatores influenciam no valor de transferência de um jogador, sua fase, se é um jogador promissor, se o jogador tem estabilidade de performance, se ja joga em alto nível a mais temporadas, o time que joga atualmente e vários outros. Neste projeto visamos analisar como alguns desses fatores influenciam o valor dos jogadores e criar um modelo que prevê o valor de transferência de um jogador com base nesses fatores. Para isso pegamos dados da atual temporada (2017-2018) dos 200 jogadores mais valiosos do mundo segundo o https://www.transfermarkt.pt/, site alemão especialista em transferência de jogadores. É importante salientar que por se tratar dos 200 MAIS VALIOSOS, todos valem no mínimo 25,00M€, ou seja, são bem valiosos mesmo valendo 7 vezes menos que os mais valiosos e isso irá influenciar em algumas de nossas análises."
   ]
  },
  {
   "cell_type": "markdown",
   "metadata": {},
   "source": [
    "___\n",
    "## MINERANDO DADOS e CARACTERÍSTICAS DO DATASET"
   ]
  },
  {
   "cell_type": "markdown",
   "metadata": {},
   "source": [
    "[Detalhe aqui as características da base de dados além da análise descritiva.]"
   ]
  },
  {
   "cell_type": "code",
   "execution_count": 152,
   "metadata": {
    "collapsed": true
   },
   "outputs": [],
   "source": [
    "import pandas as pd\n",
    "import os\n",
    "import matplotlib.pyplot as plt\n",
    "import numpy as np\n",
    "from numpy import arange\n",
    "from sklearn.model_selection import train_test_split\n",
    "pd.options.mode.chained_assignment = None"
   ]
  },
  {
   "cell_type": "code",
   "execution_count": 153,
   "metadata": {},
   "outputs": [
    {
     "name": "stdout",
     "output_type": "stream",
     "text": [
      "Esperamos trabalhar no diretório\n",
      "C:\\Users\\Gustavo\\Downloads\\cddp3-master\n"
     ]
    }
   ],
   "source": [
    "print('Esperamos trabalhar no diretório')\n",
    "print(os.getcwd())"
   ]
  },
  {
   "cell_type": "markdown",
   "metadata": {},
   "source": [
    "### BASE DE DADOS"
   ]
  },
  {
   "cell_type": "code",
   "execution_count": 154,
   "metadata": {
    "collapsed": true
   },
   "outputs": [],
   "source": [
    "dados = pd.read_excel('jogadores.xlsx')"
   ]
  },
  {
   "cell_type": "code",
   "execution_count": 155,
   "metadata": {},
   "outputs": [
    {
     "data": {
      "text/plain": [
       "Rank                                       int64\n",
       "Jogador                                   object\n",
       "Posição                                    int64\n",
       "Idade                                      int64\n",
       "Valor de Mercado (em milhões de euros)     int64\n",
       "Jogos                                      int64\n",
       "Gols                                       int64\n",
       "Assistencias                               int64\n",
       "dtype: object"
      ]
     },
     "execution_count": 155,
     "metadata": {},
     "output_type": "execute_result"
    }
   ],
   "source": [
    "dados.dtypes"
   ]
  },
  {
   "cell_type": "code",
   "execution_count": 156,
   "metadata": {},
   "outputs": [
    {
     "name": "stdout",
     "output_type": "stream",
     "text": [
      "Base de dados com a qual trabalharemos:\n"
     ]
    },
    {
     "data": {
      "text/html": [
       "<div>\n",
       "<style>\n",
       "    .dataframe thead tr:only-child th {\n",
       "        text-align: right;\n",
       "    }\n",
       "\n",
       "    .dataframe thead th {\n",
       "        text-align: left;\n",
       "    }\n",
       "\n",
       "    .dataframe tbody tr th {\n",
       "        vertical-align: top;\n",
       "    }\n",
       "</style>\n",
       "<table border=\"1\" class=\"dataframe\">\n",
       "  <thead>\n",
       "    <tr style=\"text-align: right;\">\n",
       "      <th></th>\n",
       "      <th>Rank</th>\n",
       "      <th>Jogador</th>\n",
       "      <th>Posição</th>\n",
       "      <th>Idade</th>\n",
       "      <th>Valor de Mercado (em milhões de euros)</th>\n",
       "      <th>Jogos</th>\n",
       "      <th>Gols</th>\n",
       "      <th>Assistencias</th>\n",
       "    </tr>\n",
       "  </thead>\n",
       "  <tbody>\n",
       "    <tr>\n",
       "      <th>0</th>\n",
       "      <td>1</td>\n",
       "      <td>Neymar</td>\n",
       "      <td>1</td>\n",
       "      <td>26</td>\n",
       "      <td>180</td>\n",
       "      <td>32</td>\n",
       "      <td>29</td>\n",
       "      <td>19</td>\n",
       "    </tr>\n",
       "    <tr>\n",
       "      <th>1</th>\n",
       "      <td>2</td>\n",
       "      <td>Lionel Messi</td>\n",
       "      <td>2</td>\n",
       "      <td>30</td>\n",
       "      <td>180</td>\n",
       "      <td>55</td>\n",
       "      <td>45</td>\n",
       "      <td>18</td>\n",
       "    </tr>\n",
       "    <tr>\n",
       "      <th>2</th>\n",
       "      <td>3</td>\n",
       "      <td>Kylian Mbappé</td>\n",
       "      <td>2</td>\n",
       "      <td>19</td>\n",
       "      <td>120</td>\n",
       "      <td>50</td>\n",
       "      <td>23</td>\n",
       "      <td>19</td>\n",
       "    </tr>\n",
       "    <tr>\n",
       "      <th>3</th>\n",
       "      <td>4</td>\n",
       "      <td>Harry Kane</td>\n",
       "      <td>3</td>\n",
       "      <td>24</td>\n",
       "      <td>120</td>\n",
       "      <td>48</td>\n",
       "      <td>41</td>\n",
       "      <td>5</td>\n",
       "    </tr>\n",
       "    <tr>\n",
       "      <th>4</th>\n",
       "      <td>5</td>\n",
       "      <td>Cristiano Ronaldo</td>\n",
       "      <td>3</td>\n",
       "      <td>33</td>\n",
       "      <td>120</td>\n",
       "      <td>45</td>\n",
       "      <td>46</td>\n",
       "      <td>8</td>\n",
       "    </tr>\n",
       "  </tbody>\n",
       "</table>\n",
       "</div>"
      ],
      "text/plain": [
       "   Rank            Jogador  Posição  Idade  \\\n",
       "0     1             Neymar        1     26   \n",
       "1     2       Lionel Messi        2     30   \n",
       "2     3      Kylian Mbappé        2     19   \n",
       "3     4         Harry Kane        3     24   \n",
       "4     5  Cristiano Ronaldo        3     33   \n",
       "\n",
       "   Valor de Mercado (em milhões de euros)  Jogos  Gols  Assistencias  \n",
       "0                                     180     32    29            19  \n",
       "1                                     180     55    45            18  \n",
       "2                                     120     50    23            19  \n",
       "3                                     120     48    41             5  \n",
       "4                                     120     45    46             8  "
      ]
     },
     "execution_count": 156,
     "metadata": {},
     "output_type": "execute_result"
    }
   ],
   "source": [
    "print('Base de dados com a qual trabalharemos:')\n",
    "dados.head()"
   ]
  },
  {
   "cell_type": "code",
   "execution_count": 157,
   "metadata": {},
   "outputs": [
    {
     "name": "stdout",
     "output_type": "stream",
     "text": [
      "Legenda das posições:\n",
      "1\tPonta Esquerda\n",
      "2\tPonta Direita\n",
      "3\tCentro-Avante\n",
      "4\tMeia Atacante\n",
      "5\tSegundo Atacante\n",
      "6\tMeio Campo\n",
      "7\tVolante\n",
      "8\tGoleiro\n",
      "9\tZagueiro\n",
      "10\tLateral Direito\n",
      "11\tLateral Esquerdo\n",
      "12\tMeia Direita\n",
      "13\tMeia Esquerda\n"
     ]
    }
   ],
   "source": [
    "print('''Legenda das posições:\n",
    "1\tPonta Esquerda\n",
    "2\tPonta Direita\n",
    "3\tCentro-Avante\n",
    "4\tMeia Atacante\n",
    "5\tSegundo Atacante\n",
    "6\tMeio Campo\n",
    "7\tVolante\n",
    "8\tGoleiro\n",
    "9\tZagueiro\n",
    "10\tLateral Direito\n",
    "11\tLateral Esquerdo\n",
    "12\tMeia Direita\n",
    "13\tMeia Esquerda''')"
   ]
  },
  {
   "cell_type": "markdown",
   "metadata": {},
   "source": [
    "Para fazer nosso projeto, criamos a base de dados acima a partir dos dados do https://www.transfermarkt.pt/. Para fazer esta coleta de dados utilizamos o programa WebHarvy. A base de dados, que possui o rank dos 200 jogadores mais valiosos do mundo, possui como colunas a posição no rank do jogador (Rank), o nome do jogador (Jogador), a Posição a qual o jogador atua (Posição), a idade do jogador (Idade), o valor de mercado do jogador (Valor de Mercado (em milhões de euros), os jogos que o jogador atuou na temporada (Jogos), os gols e as assistências que ele obteve na temporada (Gols e Assistencias, respectivamente). A partir dos dados dessa base, queremos obter e analisar como os fatores posição, idade, jogos, gols e assistências influenciam no valor de mercado de um jogador."
   ]
  },
  {
   "cell_type": "code",
   "execution_count": 158,
   "metadata": {
    "collapsed": true
   },
   "outputs": [],
   "source": [
    "dados.columns = ['Rank','Jogador','posição','idade','valor','jogos','gols','assistencias']"
   ]
  },
  {
   "cell_type": "code",
   "execution_count": 159,
   "metadata": {},
   "outputs": [
    {
     "data": {
      "text/html": [
       "<div>\n",
       "<style>\n",
       "    .dataframe thead tr:only-child th {\n",
       "        text-align: right;\n",
       "    }\n",
       "\n",
       "    .dataframe thead th {\n",
       "        text-align: left;\n",
       "    }\n",
       "\n",
       "    .dataframe tbody tr th {\n",
       "        vertical-align: top;\n",
       "    }\n",
       "</style>\n",
       "<table border=\"1\" class=\"dataframe\">\n",
       "  <thead>\n",
       "    <tr style=\"text-align: right;\">\n",
       "      <th></th>\n",
       "      <th>posição</th>\n",
       "      <th>idade</th>\n",
       "      <th>valor</th>\n",
       "      <th>jogos</th>\n",
       "      <th>gols</th>\n",
       "      <th>assistencias</th>\n",
       "    </tr>\n",
       "  </thead>\n",
       "  <tbody>\n",
       "    <tr>\n",
       "      <th>0</th>\n",
       "      <td>1</td>\n",
       "      <td>26</td>\n",
       "      <td>180</td>\n",
       "      <td>32</td>\n",
       "      <td>29</td>\n",
       "      <td>19</td>\n",
       "    </tr>\n",
       "    <tr>\n",
       "      <th>1</th>\n",
       "      <td>2</td>\n",
       "      <td>30</td>\n",
       "      <td>180</td>\n",
       "      <td>55</td>\n",
       "      <td>45</td>\n",
       "      <td>18</td>\n",
       "    </tr>\n",
       "    <tr>\n",
       "      <th>2</th>\n",
       "      <td>2</td>\n",
       "      <td>19</td>\n",
       "      <td>120</td>\n",
       "      <td>50</td>\n",
       "      <td>23</td>\n",
       "      <td>19</td>\n",
       "    </tr>\n",
       "    <tr>\n",
       "      <th>3</th>\n",
       "      <td>3</td>\n",
       "      <td>24</td>\n",
       "      <td>120</td>\n",
       "      <td>48</td>\n",
       "      <td>41</td>\n",
       "      <td>5</td>\n",
       "    </tr>\n",
       "    <tr>\n",
       "      <th>4</th>\n",
       "      <td>3</td>\n",
       "      <td>33</td>\n",
       "      <td>120</td>\n",
       "      <td>45</td>\n",
       "      <td>46</td>\n",
       "      <td>8</td>\n",
       "    </tr>\n",
       "  </tbody>\n",
       "</table>\n",
       "</div>"
      ],
      "text/plain": [
       "   posição  idade  valor  jogos  gols  assistencias\n",
       "0        1     26    180     32    29            19\n",
       "1        2     30    180     55    45            18\n",
       "2        2     19    120     50    23            19\n",
       "3        3     24    120     48    41             5\n",
       "4        3     33    120     45    46             8"
      ]
     },
     "execution_count": 159,
     "metadata": {},
     "output_type": "execute_result"
    }
   ],
   "source": [
    "dados_filtro = dados.iloc[0:,[2,3,4,5,6,7]]\n",
    "dados_filtro.head()"
   ]
  },
  {
   "cell_type": "markdown",
   "metadata": {},
   "source": [
    "### ANÁLISE DESCRITIVA"
   ]
  },
  {
   "cell_type": "code",
   "execution_count": 160,
   "metadata": {},
   "outputs": [
    {
     "data": {
      "image/png": "[encoded data removed]",
      "text/plain": [
       "<matplotlib.figure.Figure at 0x1ff62fa6c50>"
      ]
     },
     "metadata": {},
     "output_type": "display_data"
    }
   ],
   "source": [
    "x = plt.scatter(dados_filtro['idade'], dados_filtro['valor'] )\n",
    "plt.xlabel('idade dos jogadores')\n",
    "plt.ylabel('valor de mercado')\n",
    "plt.title('Valor x Idade')\n",
    "plt.show(x)\n"
   ]
  },
  {
   "cell_type": "markdown",
   "metadata": {},
   "source": [
    "O gráfico acima nos mostra como a idade de um jogador influencia no valor dele. Podemos ver que a maioria dos 200 jogadores mais valiosos se encontra na faixa dos 24 aos 26 anos que é, normalmente, a idade em que os jogadores possuem o auge de suas carreiras. Os jogadores que possuem idade abaixo dessa faixa, são jogadores considerados promissores, alguns deles podendo chegar entre os melhores do mundo futuramente, por isso possuem valores altos já com essa idade. Os jogadores que com 28 anos ou mais ainda são valiosos, são, em sua maioria, jogadores já consagrados no futebol e que conseguem manter um alto nível de futebol. Podemos observar que são poucos os que conseguem se manter nos top 200, com idade mais \"avançada\" (acima dos 30 anos), pois, além da natural queda de rendimento, o jogador deixa de ser considerado um investimento de longo prazo."
   ]
  },
  {
   "cell_type": "code",
   "execution_count": 161,
   "metadata": {},
   "outputs": [
    {
     "data": {
      "image/png": "[encoded data removed]",
      "text/plain": [
       "<matplotlib.figure.Figure at 0x1ff62fbd9e8>"
      ]
     },
     "metadata": {},
     "output_type": "display_data"
    }
   ],
   "source": [
    "k = plt.scatter(dados_filtro['gols'], dados_filtro['valor'] )\n",
    "plt.xlabel('gols marcados pelos jogadores')\n",
    "plt.ylabel('valor de mercado')\n",
    "plt.title('Valor x Gols')\n",
    "plt.show(k)"
   ]
  },
  {
   "cell_type": "markdown",
   "metadata": {},
   "source": [
    "O gráfico acima nos mostra como os gols marcados por um jogador pode influenciar em seu valor. Neste gráfico há mais coisas necessárias pra se levar em conta: jogadores de defesa tendem a fazer poucos gols na temporada e goleiros dificilmente farão algum gol na temporada. Por esses motivos boa parte dos jogadores mais valiosos possuem menos de 10 gols na temporada. Mesmo assim, podemos perceber o valor dos jogadores que possuem mais gols tende a ser maior, além da maioria dos jogadores com menos de 10 gols estar concentrada em valores de 40M€ pra baixo, os jogadores com mais de 20 gols estão em boa parte acima dos 60M€."
   ]
  },
  {
   "cell_type": "code",
   "execution_count": 162,
   "metadata": {},
   "outputs": [
    {
     "data": {
      "image/png": "[encoded data removed]",
      "text/plain": [
       "<matplotlib.figure.Figure at 0x1ff62fa0358>"
      ]
     },
     "metadata": {},
     "output_type": "display_data"
    }
   ],
   "source": [
    "u = plt.scatter(dados_filtro['assistencias'] , dados_filtro['valor'])\n",
    "plt.xlabel('assistencias feitas pelos jogadores')\n",
    "plt.ylabel('valor de mercado')\n",
    "plt.title('Valor x Assistencias')\n",
    "plt.show(u)"
   ]
  },
  {
   "cell_type": "markdown",
   "metadata": {},
   "source": [
    "O gráfico acima nos mostra como as assistências de um jogador pode influenciar em seu valor. Por mais que estejam mais distribuídos, é perceptível que conforme mais assistências o jogador deu, maior seu valor de mercado. Dos 20 jogadores quem valem pelo menos 80M€, 14 deles deram pelo menos 10 assistências na temporada."
   ]
  },
  {
   "cell_type": "code",
   "execution_count": 163,
   "metadata": {},
   "outputs": [
    {
     "data": {
      "image/png": "[encoded data removed]",
      "text/plain": [
       "<matplotlib.figure.Figure at 0x1ff62faa6a0>"
      ]
     },
     "metadata": {},
     "output_type": "display_data"
    }
   ],
   "source": [
    "i = plt.scatter(dados_filtro['jogos'] , dados_filtro['valor'])\n",
    "plt.xlabel('quantidade de jogos feitos pelos jogadores')\n",
    "plt.ylabel('valor de mercado')\n",
    "plt.title('Valor x Jogos')\n",
    "plt.show(i)"
   ]
  },
  {
   "cell_type": "markdown",
   "metadata": {},
   "source": [
    "O gráfico acima nos mostra como a quantidade de jogos disputados por um jogador pode influenciar em seu valor. Como o gráfico mostra bem, dificilmente um jogador que faça poucos jogos venha a ser valioso, pois os jogadores mais valiosos tendem a ser os melhores e, portanto os mais utilizados. As raras excessões podem ser jogadores que tiveram graves lesões e perderam a maioria da temporada ou jogadores que tiveram boas temporadas anteriormente porém viraram reservas de jogadores melhores em grandes clubes."
   ]
  },
  {
   "cell_type": "code",
   "execution_count": 164,
   "metadata": {
    "scrolled": true
   },
   "outputs": [
    {
     "name": "stderr",
     "output_type": "stream",
     "text": [
      "C:\\Users\\Gustavo\\Anaconda3\\lib\\site-packages\\numpy\\core\\fromnumeric.py:57: FutureWarning: reshape is deprecated and will raise in a subsequent release. Please use .values.reshape(...) instead\n",
      "  return getattr(obj, method)(*args, **kwds)\n"
     ]
    },
    {
     "data": {
      "image/png": "[encoded data removed]",
      "text/plain": [
       "<matplotlib.figure.Figure at 0x1ff62d35588>"
      ]
     },
     "metadata": {},
     "output_type": "display_data"
    }
   ],
   "source": [
    "dados_filtro['posição'][(dados_filtro['posição'] ==1) | (dados_filtro['posição'] ==2) | (dados_filtro['posição']==3)] = [1]\n",
    "dados_filtro['posição'][(dados_filtro['posição'] ==4) | (dados_filtro['posição'] ==5) | (dados_filtro['posição']==6) | (dados_filtro['posição']==7) | (dados_filtro['posição'] ==12) | (dados_filtro['posição'] ==13)] = [2]\n",
    "dados_filtro['posição'][(dados_filtro['posição'] ==8)] = [3]\n",
    "dados_filtro['posição'][(dados_filtro['posição'] ==9) | (dados_filtro['posição'] ==10) | (dados_filtro['posição']==11)] = [4] \n",
    "\n",
    "dados_filtro['posição']=dados_filtro['posição'].astype(\"category\")\n",
    "dados_filtro['posição'].cat.categories=(\"Atacantes\",\"Meio_campistas\",\"Goleiros\",\"Defensores\")\n",
    "\n",
    "w = dados_filtro.boxplot(column='valor',by='posição')\n",
    "plt.suptitle(\"\")\n",
    "plt.title('Valor x Posição')\n",
    "plt.ylabel('Valor')\n",
    "plt.show(w)"
   ]
  },
  {
   "cell_type": "markdown",
   "metadata": {},
   "source": [
    "O gráfico acima nos mostra como a posição de um jogador pode influenciar em seu valor. Podemos perceber a partir do gráfico que os jogadores de posições mais ofensivas (atacantes e meio campistas), tendem a possuir um valor de mercado maior do que os de posições mais defensivas. Isso se da devido ao fato de eles serem os principais responsáveis para que o time marque gols. Defensores e Goleiros, por mais que muito importantes a um time, tendem a ser desvalorizados em relação ao seu valor pois os homens de frente que normalmente ganham os holofotes."
   ]
  },
  {
   "cell_type": "code",
   "execution_count": 165,
   "metadata": {},
   "outputs": [
    {
     "data": {
      "text/html": [
       "<div>\n",
       "<style>\n",
       "    .dataframe thead tr:only-child th {\n",
       "        text-align: right;\n",
       "    }\n",
       "\n",
       "    .dataframe thead th {\n",
       "        text-align: left;\n",
       "    }\n",
       "\n",
       "    .dataframe tbody tr th {\n",
       "        vertical-align: top;\n",
       "    }\n",
       "</style>\n",
       "<table border=\"1\" class=\"dataframe\">\n",
       "  <thead>\n",
       "    <tr style=\"text-align: right;\">\n",
       "      <th></th>\n",
       "      <th>posição</th>\n",
       "      <th>idade</th>\n",
       "      <th>valor</th>\n",
       "      <th>jogos</th>\n",
       "      <th>gols</th>\n",
       "      <th>assistencias</th>\n",
       "    </tr>\n",
       "  </thead>\n",
       "  <tbody>\n",
       "    <tr>\n",
       "      <th>154</th>\n",
       "      <td>Defensores</td>\n",
       "      <td>22</td>\n",
       "      <td>30</td>\n",
       "      <td>38</td>\n",
       "      <td>0</td>\n",
       "      <td>5</td>\n",
       "    </tr>\n",
       "    <tr>\n",
       "      <th>199</th>\n",
       "      <td>Meio_campistas</td>\n",
       "      <td>24</td>\n",
       "      <td>25</td>\n",
       "      <td>51</td>\n",
       "      <td>8</td>\n",
       "      <td>3</td>\n",
       "    </tr>\n",
       "    <tr>\n",
       "      <th>82</th>\n",
       "      <td>Atacantes</td>\n",
       "      <td>21</td>\n",
       "      <td>45</td>\n",
       "      <td>37</td>\n",
       "      <td>11</td>\n",
       "      <td>7</td>\n",
       "    </tr>\n",
       "    <tr>\n",
       "      <th>192</th>\n",
       "      <td>Defensores</td>\n",
       "      <td>22</td>\n",
       "      <td>25</td>\n",
       "      <td>42</td>\n",
       "      <td>1</td>\n",
       "      <td>4</td>\n",
       "    </tr>\n",
       "    <tr>\n",
       "      <th>58</th>\n",
       "      <td>Defensores</td>\n",
       "      <td>29</td>\n",
       "      <td>60</td>\n",
       "      <td>44</td>\n",
       "      <td>3</td>\n",
       "      <td>4</td>\n",
       "    </tr>\n",
       "  </tbody>\n",
       "</table>\n",
       "</div>"
      ],
      "text/plain": [
       "            posição  idade  valor  jogos  gols  assistencias\n",
       "154      Defensores     22     30     38     0             5\n",
       "199  Meio_campistas     24     25     51     8             3\n",
       "82        Atacantes     21     45     37    11             7\n",
       "192      Defensores     22     25     42     1             4\n",
       "58       Defensores     29     60     44     3             4"
      ]
     },
     "execution_count": 165,
     "metadata": {},
     "output_type": "execute_result"
    }
   ],
   "source": [
    "#Dividindo a base de dados em 90% para treinamento e 10% para teste\n",
    "treinamento, teste = train_test_split(dados_filtro, test_size=0.1)\n",
    "teste.head()"
   ]
  },
  {
   "cell_type": "code",
   "execution_count": 166,
   "metadata": {},
   "outputs": [
    {
     "data": {
      "text/html": [
       "<div>\n",
       "<style>\n",
       "    .dataframe thead tr:only-child th {\n",
       "        text-align: right;\n",
       "    }\n",
       "\n",
       "    .dataframe thead th {\n",
       "        text-align: left;\n",
       "    }\n",
       "\n",
       "    .dataframe tbody tr th {\n",
       "        vertical-align: top;\n",
       "    }\n",
       "</style>\n",
       "<table border=\"1\" class=\"dataframe\">\n",
       "  <thead>\n",
       "    <tr style=\"text-align: right;\">\n",
       "      <th></th>\n",
       "      <th>posição</th>\n",
       "      <th>idade</th>\n",
       "      <th>valor</th>\n",
       "      <th>jogos</th>\n",
       "      <th>gols</th>\n",
       "      <th>assistencias</th>\n",
       "    </tr>\n",
       "  </thead>\n",
       "  <tbody>\n",
       "    <tr>\n",
       "      <th>188</th>\n",
       "      <td>Defensores</td>\n",
       "      <td>18</td>\n",
       "      <td>25</td>\n",
       "      <td>42</td>\n",
       "      <td>3</td>\n",
       "      <td>5</td>\n",
       "    </tr>\n",
       "    <tr>\n",
       "      <th>5</th>\n",
       "      <td>Meio_campistas</td>\n",
       "      <td>26</td>\n",
       "      <td>110</td>\n",
       "      <td>55</td>\n",
       "      <td>13</td>\n",
       "      <td>23</td>\n",
       "    </tr>\n",
       "    <tr>\n",
       "      <th>50</th>\n",
       "      <td>Defensores</td>\n",
       "      <td>26</td>\n",
       "      <td>60</td>\n",
       "      <td>48</td>\n",
       "      <td>1</td>\n",
       "      <td>8</td>\n",
       "    </tr>\n",
       "    <tr>\n",
       "      <th>116</th>\n",
       "      <td>Meio_campistas</td>\n",
       "      <td>29</td>\n",
       "      <td>40</td>\n",
       "      <td>37</td>\n",
       "      <td>2</td>\n",
       "      <td>2</td>\n",
       "    </tr>\n",
       "    <tr>\n",
       "      <th>172</th>\n",
       "      <td>Atacantes</td>\n",
       "      <td>24</td>\n",
       "      <td>28</td>\n",
       "      <td>55</td>\n",
       "      <td>25</td>\n",
       "      <td>17</td>\n",
       "    </tr>\n",
       "  </tbody>\n",
       "</table>\n",
       "</div>"
      ],
      "text/plain": [
       "            posição  idade  valor  jogos  gols  assistencias\n",
       "188      Defensores     18     25     42     3             5\n",
       "5    Meio_campistas     26    110     55    13            23\n",
       "50       Defensores     26     60     48     1             8\n",
       "116  Meio_campistas     29     40     37     2             2\n",
       "172       Atacantes     24     28     55    25            17"
      ]
     },
     "execution_count": 166,
     "metadata": {},
     "output_type": "execute_result"
    }
   ],
   "source": [
    "treinamento.head()"
   ]
  },
  {
   "cell_type": "markdown",
   "metadata": {},
   "source": [
    "___\n",
    "## MODELOS DE PREDIÇÃO"
   ]
  },
  {
   "cell_type": "markdown",
   "metadata": {},
   "source": [
    "Agora iremos criar modelos de predição que irão prever o valor do jogador com base em seus números da temporada (jogos, gols e assistências), sua idade e sua posição. Faremos dois destes modelos, um mais simples e menos preciso e um mais sofisticado e com uma melhor precisão e perfomance. Esses modelos estão listados abaixo respectivamente."
   ]
  },
  {
   "cell_type": "markdown",
   "metadata": {
    "collapsed": true
   },
   "source": [
    "o MODELO DE PREDIÇÃO PELA MÉDIA\n",
    "\n",
    "o MODELO DE REGRESSÃO LINEAR (Multiple Linear Regression)\n"
   ]
  },
  {
   "cell_type": "markdown",
   "metadata": {
    "collapsed": true
   },
   "source": [
    "Modelo de Predição pela Média:"
   ]
  },
  {
   "cell_type": "code",
   "execution_count": 167,
   "metadata": {},
   "outputs": [
    {
     "name": "stdout",
     "output_type": "stream",
     "text": [
      "50.03888888888889\n"
     ]
    }
   ],
   "source": [
    "#Modelo de Predição pela média\n",
    "#Achando a média dos valores de mercado de cada jogador\n",
    "media=treinamento['valor'].mean()\n",
    "print(media)"
   ]
  },
  {
   "cell_type": "code",
   "execution_count": 168,
   "metadata": {},
   "outputs": [
    {
     "data": {
      "text/plain": [
       "0.0"
      ]
     },
     "execution_count": 168,
     "metadata": {},
     "output_type": "execute_result"
    }
   ],
   "source": [
    "#Aplicando o R^2\n",
    "valor = (teste['valor'] - media)**2\n",
    "r2 = 1 - (valor.sum()/valor.sum())\n",
    "r2"
   ]
  },
  {
   "cell_type": "markdown",
   "metadata": {},
   "source": [
    "Para o modelo de predição pela média, o r2 sempre será igual a 0, ja que o mesmo ao fazer as contas da somatoria, realiza os mesmos tipos de calculo resultando em 1-1 = 0"
   ]
  },
  {
   "cell_type": "code",
   "execution_count": 169,
   "metadata": {},
   "outputs": [
    {
     "data": {
      "text/plain": [
       "17.05818021788019"
      ]
     },
     "execution_count": 169,
     "metadata": {},
     "output_type": "execute_result"
    }
   ],
   "source": [
    "#Aplicando o RMS\n",
    "rms = (valor.sum()/20)**0.5\n",
    "rms"
   ]
  },
  {
   "cell_type": "markdown",
   "metadata": {
    "collapsed": true
   },
   "source": [
    "Modelo de Regressão Linear:"
   ]
  },
  {
   "cell_type": "markdown",
   "metadata": {},
   "source": [
    "Fazendo a regressão pelo sklearn"
   ]
  },
  {
   "cell_type": "code",
   "execution_count": 170,
   "metadata": {
    "collapsed": true
   },
   "outputs": [],
   "source": [
    "#Separar em variáveis independentes e a variável dependente\n",
    "X = dados_filtro.iloc[0:,[0,1,3,4,5]].values #Variáveis independentes\n",
    "y = dados_filtro.iloc[0:,2].values #Variável dependente (Valor do jogador)"
   ]
  },
  {
   "cell_type": "code",
   "execution_count": 171,
   "metadata": {
    "collapsed": true
   },
   "outputs": [],
   "source": [
    "#Codificação da variável posição (de string para float)\n",
    "from sklearn.preprocessing import LabelEncoder, OneHotEncoder\n",
    "labelencoder_X = LabelEncoder()\n",
    "X[:,0] = labelencoder_X.fit_transform(X[:,0])\n",
    "onehotencoder = OneHotEncoder(categorical_features = [0])\n",
    "X = onehotencoder.fit_transform(X).toarray()"
   ]
  },
  {
   "cell_type": "code",
   "execution_count": 172,
   "metadata": {
    "collapsed": true
   },
   "outputs": [],
   "source": [
    "X_treino, X_teste, y_treino, y_teste = train_test_split(X, y, test_size=0.1, random_state = 0)"
   ]
  },
  {
   "cell_type": "code",
   "execution_count": 173,
   "metadata": {},
   "outputs": [
    {
     "data": {
      "text/plain": [
       "LinearRegression(copy_X=True, fit_intercept=True, n_jobs=1, normalize=False)"
      ]
     },
     "execution_count": 173,
     "metadata": {},
     "output_type": "execute_result"
    }
   ],
   "source": [
    "#Aplicando a Regressão Linear Multipla noa base trenamento\n",
    "from sklearn.linear_model import LinearRegression\n",
    "regressor = LinearRegression()\n",
    "regressor.fit(X_treino, y_treino)"
   ]
  },
  {
   "cell_type": "code",
   "execution_count": 174,
   "metadata": {},
   "outputs": [
    {
     "data": {
      "text/plain": [
       "array([ 32.65587543,  35.08483692,  36.84098629,  43.17638167,\n",
       "        40.96293494,  55.08098753,  68.58821445,  54.38969712,\n",
       "        77.829266  ,  46.49009046,  59.980539  ,  39.5181545 ,\n",
       "        53.77925603,  39.83040632,  51.0680825 ,  80.61775404,\n",
       "        64.32501166,  47.58372588,  47.80729869,  46.99688492])"
      ]
     },
     "execution_count": 174,
     "metadata": {},
     "output_type": "execute_result"
    }
   ],
   "source": [
    "#Prevendo os resultados dos dados teste\n",
    "y_pred = regressor.predict(X_teste)\n",
    "y_pred"
   ]
  },
  {
   "cell_type": "code",
   "execution_count": 175,
   "metadata": {
    "collapsed": true
   },
   "outputs": [],
   "source": [
    "#Transformado o array(predição dos valores) e a coluna(teste['valor']) em lista\n",
    "lista_y = y_pred.tolist()\n",
    "lista_v = teste['valor'].tolist()\n",
    "media2 = 0\n",
    "for i in range(len(lista_v)):\n",
    "    media2 = media2 +lista_v[i]\n",
    "media_f = media2/20\n",
    "lista_R = []\n",
    "for j in range(len(lista_y)):\n",
    "    R12 = (lista_v[j] - lista_y[j])**2\n",
    "    lista_R.append(R12)\n",
    "teste['valor_estipulado'] = lista_R\n",
    "div_f0 = teste['valor_estipulado'].sum()\n"
   ]
  },
  {
   "cell_type": "code",
   "execution_count": 176,
   "metadata": {},
   "outputs": [
    {
     "name": "stdout",
     "output_type": "stream",
     "text": [
      "O valor de RMS na regressão linear é 22.30639372234761\n"
     ]
    }
   ],
   "source": [
    "#Calculando o RMS\n",
    "RMS2 = (div_f0/20)**0.5\n",
    "print('O valor de RMS na regressão linear é {0}'.format(RMS2))"
   ]
  },
  {
   "cell_type": "markdown",
   "metadata": {},
   "source": [
    "Nosso valor de RMS não está muito aceitavel, tendo em vista que valores mais proximos de 0 são ideias, estes mostram que a regressão esta mais próxima do real"
   ]
  },
  {
   "cell_type": "code",
   "execution_count": 177,
   "metadata": {
    "collapsed": true
   },
   "outputs": [],
   "source": [
    "import statsmodels.api as sm\n",
    "from statsmodels.formula.api import ols\n",
    "from statsmodels.sandbox.regression.predstd import wls_prediction_std"
   ]
  },
  {
   "cell_type": "markdown",
   "metadata": {},
   "source": [
    "Fazendo a regressão pelo stats.model OLS"
   ]
  },
  {
   "cell_type": "code",
   "execution_count": 178,
   "metadata": {},
   "outputs": [
    {
     "data": {
      "text/html": [
       "<table class=\"simpletable\">\n",
       "<caption>OLS Regression Results</caption>\n",
       "<tr>\n",
       "  <th>Dep. Variable:</th>          <td>valor</td>      <th>  R-squared:         </th> <td>   0.404</td>\n",
       "</tr>\n",
       "<tr>\n",
       "  <th>Model:</th>                   <td>OLS</td>       <th>  Adj. R-squared:    </th> <td>   0.379</td>\n",
       "</tr>\n",
       "<tr>\n",
       "  <th>Method:</th>             <td>Least Squares</td>  <th>  F-statistic:       </th> <td>   16.63</td>\n",
       "</tr>\n",
       "<tr>\n",
       "  <th>Date:</th>             <td>Tue, 05 Jun 2018</td> <th>  Prob (F-statistic):</th> <td>1.16e-16</td>\n",
       "</tr>\n",
       "<tr>\n",
       "  <th>Time:</th>                 <td>23:23:01</td>     <th>  Log-Likelihood:    </th> <td> -789.48</td>\n",
       "</tr>\n",
       "<tr>\n",
       "  <th>No. Observations:</th>      <td>   180</td>      <th>  AIC:               </th> <td>   1595.</td>\n",
       "</tr>\n",
       "<tr>\n",
       "  <th>Df Residuals:</th>          <td>   172</td>      <th>  BIC:               </th> <td>   1620.</td>\n",
       "</tr>\n",
       "<tr>\n",
       "  <th>Df Model:</th>              <td>     7</td>      <th>                     </th>     <td> </td>   \n",
       "</tr>\n",
       "<tr>\n",
       "  <th>Covariance Type:</th>      <td>nonrobust</td>    <th>                     </th>     <td> </td>   \n",
       "</tr>\n",
       "</table>\n",
       "<table class=\"simpletable\">\n",
       "<tr>\n",
       "              <td></td>                 <th>coef</th>     <th>std err</th>      <th>t</th>      <th>P>|t|</th>  <th>[0.025</th>    <th>0.975]</th>  \n",
       "</tr>\n",
       "<tr>\n",
       "  <th>Intercept</th>                 <td>   14.0728</td> <td>   13.489</td> <td>    1.043</td> <td> 0.298</td> <td>  -12.552</td> <td>   40.697</td>\n",
       "</tr>\n",
       "<tr>\n",
       "  <th>posição[T.Meio_campistas]</th> <td>    7.6906</td> <td>    4.370</td> <td>    1.760</td> <td> 0.080</td> <td>   -0.936</td> <td>   16.317</td>\n",
       "</tr>\n",
       "<tr>\n",
       "  <th>posição[T.Goleiros]</th>       <td>   31.7203</td> <td>    8.847</td> <td>    3.585</td> <td> 0.000</td> <td>   14.258</td> <td>   49.183</td>\n",
       "</tr>\n",
       "<tr>\n",
       "  <th>posição[T.Defensores]</th>     <td>   12.7838</td> <td>    5.326</td> <td>    2.400</td> <td> 0.017</td> <td>    2.271</td> <td>   23.296</td>\n",
       "</tr>\n",
       "<tr>\n",
       "  <th>idade</th>                     <td>    0.3815</td> <td>    0.450</td> <td>    0.847</td> <td> 0.398</td> <td>   -0.507</td> <td>    1.270</td>\n",
       "</tr>\n",
       "<tr>\n",
       "  <th>jogos</th>                     <td>   -0.0942</td> <td>    0.177</td> <td>   -0.533</td> <td> 0.594</td> <td>   -0.443</td> <td>    0.254</td>\n",
       "</tr>\n",
       "<tr>\n",
       "  <th>gols</th>                      <td>    1.4541</td> <td>    0.206</td> <td>    7.075</td> <td> 0.000</td> <td>    1.048</td> <td>    1.860</td>\n",
       "</tr>\n",
       "<tr>\n",
       "  <th>assistencias</th>              <td>    1.2961</td> <td>    0.368</td> <td>    3.526</td> <td> 0.001</td> <td>    0.571</td> <td>    2.022</td>\n",
       "</tr>\n",
       "</table>\n",
       "<table class=\"simpletable\">\n",
       "<tr>\n",
       "  <th>Omnibus:</th>       <td>34.495</td> <th>  Durbin-Watson:     </th> <td>   2.109</td>\n",
       "</tr>\n",
       "<tr>\n",
       "  <th>Prob(Omnibus):</th> <td> 0.000</td> <th>  Jarque-Bera (JB):  </th> <td>  90.782</td>\n",
       "</tr>\n",
       "<tr>\n",
       "  <th>Skew:</th>          <td> 0.787</td> <th>  Prob(JB):          </th> <td>1.94e-20</td>\n",
       "</tr>\n",
       "<tr>\n",
       "  <th>Kurtosis:</th>      <td> 6.103</td> <th>  Cond. No.          </th> <td>    484.</td>\n",
       "</tr>\n",
       "</table>"
      ],
      "text/plain": [
       "<class 'statsmodels.iolib.summary.Summary'>\n",
       "\"\"\"\n",
       "                            OLS Regression Results                            \n",
       "==============================================================================\n",
       "Dep. Variable:                  valor   R-squared:                       0.404\n",
       "Model:                            OLS   Adj. R-squared:                  0.379\n",
       "Method:                 Least Squares   F-statistic:                     16.63\n",
       "Date:                Tue, 05 Jun 2018   Prob (F-statistic):           1.16e-16\n",
       "Time:                        23:23:01   Log-Likelihood:                -789.48\n",
       "No. Observations:                 180   AIC:                             1595.\n",
       "Df Residuals:                     172   BIC:                             1620.\n",
       "Df Model:                           7                                         \n",
       "Covariance Type:            nonrobust                                         \n",
       "=============================================================================================\n",
       "                                coef    std err          t      P>|t|      [0.025      0.975]\n",
       "---------------------------------------------------------------------------------------------\n",
       "Intercept                    14.0728     13.489      1.043      0.298     -12.552      40.697\n",
       "posição[T.Meio_campistas]     7.6906      4.370      1.760      0.080      -0.936      16.317\n",
       "posição[T.Goleiros]          31.7203      8.847      3.585      0.000      14.258      49.183\n",
       "posição[T.Defensores]        12.7838      5.326      2.400      0.017       2.271      23.296\n",
       "idade                         0.3815      0.450      0.847      0.398      -0.507       1.270\n",
       "jogos                        -0.0942      0.177     -0.533      0.594      -0.443       0.254\n",
       "gols                          1.4541      0.206      7.075      0.000       1.048       1.860\n",
       "assistencias                  1.2961      0.368      3.526      0.001       0.571       2.022\n",
       "==============================================================================\n",
       "Omnibus:                       34.495   Durbin-Watson:                   2.109\n",
       "Prob(Omnibus):                  0.000   Jarque-Bera (JB):               90.782\n",
       "Skew:                           0.787   Prob(JB):                     1.94e-20\n",
       "Kurtosis:                       6.103   Cond. No.                         484.\n",
       "==============================================================================\n",
       "\n",
       "Warnings:\n",
       "[1] Standard Errors assume that the covariance matrix of the errors is correctly specified.\n",
       "\"\"\""
      ]
     },
     "execution_count": 178,
     "metadata": {},
     "output_type": "execute_result"
    }
   ],
   "source": [
    "#Fazendo a regressão por OLS e printando o Summary\n",
    "regr = ols('valor ~ posição + idade + jogos + gols + assistencias',data = treinamento).fit()\n",
    "regr.summary()"
   ]
  },
  {
   "cell_type": "code",
   "execution_count": 180,
   "metadata": {},
   "outputs": [
    {
     "name": "stdout",
     "output_type": "stream",
     "text": [
      "O valor de RMS na regressão linear é 15.759537822897505\n",
      "O valor de R2 na regressão linear é 0.40360727790018813\n"
     ]
    }
   ],
   "source": [
    "#Calculando o RMS e o R2 da regressão por OLS\n",
    "pred = regr.predict(teste)\n",
    "\n",
    "lista_p = pred.tolist()\n",
    "lista_V = []\n",
    "for c in range(len(lista_p)):\n",
    "    R123 = (lista_v[c] - lista_p[c])**2\n",
    "    lista_V.append(R123)\n",
    "teste['valor_est'] = lista_V\n",
    "soma = teste['valor_est'].sum()\n",
    "\n",
    "RMS3 = (soma/20)**0.5\n",
    "print('O valor de RMS na regressão linear é {0}'.format(RMS3))\n",
    "print('O valor de R2 na regressão linear é {0}'.format(regr.rsquared))"
   ]
  },
  {
   "cell_type": "markdown",
   "metadata": {},
   "source": [
    "Nosso valor de RMS não está muito aceitavel, tendo em vista que valores mais proximos de 0 são ideias, estes mostram que a regressão esta mais próxima do real\n",
    "Nosso valor de R2 tambem nao é um bom valor, ja que o mesmo quanto mais proximo de 1, mais a regressão representa a realidade dos dados utilizados"
   ]
  },
  {
   "cell_type": "markdown",
   "metadata": {},
   "source": [
    "___\n",
    "## CONCLUSÃO"
   ]
  },
  {
   "cell_type": "markdown",
   "metadata": {
    "collapsed": true
   },
   "source": [
    "Após análise dos resultados gerados pelo modelo de regressão linear e de seus testes de performance podemos verificar que os valores de mercado gerados por ele, não coincidem com os valores reais dos jogadores, porém isso não quer dizer que o modelo de predição esta ruim. O modelo gera quais seriam os valores dos jogadores baseado apenas em numeros da temporada atual, idade e posição do jogador, não considerando como o jogador se saiu em temporadas passadas, afinal um jogador começa uma nova temporada com seu valor baseado no que ja fez em temporadas anteriores. Fatores como clube em que joga e disciplina do jogador também são fatores importantes que influenciam em seu valor de mercado."
   ]
  },
  {
   "cell_type": "markdown",
   "metadata": {},
   "source": [
    "___\n",
    "## REFERÊNCIAS BIBLIOGRÁFICAS"
   ]
  },
  {
   "cell_type": "markdown",
   "metadata": {
    "collapsed": true
   },
   "source": [
    "https://stackoverflow.com/\n",
    "\n"
   ]
  },
  {
   "cell_type": "markdown",
   "metadata": {},
   "source": [
    "https://www.learndatasci.com/tutorials/predicting-housing-prices-linear-regression-using-python-pandas-statsmodels/"
   ]
  },
  {
   "cell_type": "markdown",
   "metadata": {},
   "source": [
    "https://www.transfermarkt.pt/"
   ]
  }
 ],
 "metadata": {
  "anaconda-cloud": {},
  "kernelspec": {
   "display_name": "Python 3",
   "language": "python",
   "name": "python3"
  },
  "language_info": {
   "codemirror_mode": {
    "name": "ipython",
    "version": 3
   },
   "file_extension": ".py",
   "mimetype": "text/x-python",
   "name": "python",
   "nbconvert_exporter": "python",
   "pygments_lexer": "ipython3",
   "version": "3.6.3"
  }
 },
 "nbformat": 4,
 "nbformat_minor": 1
}
