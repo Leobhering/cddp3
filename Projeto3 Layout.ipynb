{
 "cells": [
  {
   "cell_type": "markdown",
   "metadata": {},
   "source": [
    "___\n",
    "# Ciência dos Dados - PROJETO 3 - INSPER"
   ]
  },
  {
   "cell_type": "markdown",
   "metadata": {},
   "source": [
    "___\n",
    "## Leonardo Bhering \n",
    "\n",
    "## Gustavo Molina"
   ]
  },
  {
   "cell_type": "markdown",
   "metadata": {},
   "source": [
    "___\n",
    "\n",
    "## INTRODUÇÃO"
   ]
  },
  {
   "cell_type": "markdown",
   "metadata": {},
   "source": [
    "  A cada dia que passa o Futebol movimenta mais e mais dinheiro. O esporte mais popular do planeta tem sido dominado pelos times com maior poder financeiro e atraido investimentos de grandes executivos e poderosos, incluindo investidores do mundo árabe e da China. Com todo esse investimento, os times com maior poder aquisitivo oferecem hoje valores que eram gastos apenas nos jogadores de elite antigamente, para jogadores medianos. Com esse movimento, vários veículos especializados no mercado da bola começaram a estudar e estimar os valores de transferência dos jogadores. Vários fatores influenciam no valor de transferência de um jogador, sua fase, se é um jogador promissor, se o jogador tem estabilidade de performance, se ja joga em alto nível a mais temporadas, o time que joga atualmente e vários outros. Neste projeto visamos analisar como alguns desses fatores influenciam o valor dos jogadores e criar um modelo que prevê o valor de transferência de um jogador com base nesses fatores. Para isso pegamos dados da atual temporada (2017-2018) dos 200 jogadores mais valiosos do mundo segundo o https://www.transfermarkt.pt/, site alemão especialista em transferência de jogadores. É importante salientar que por se tratar dos 200 MAIS VALIOSOS, todos valem no mínimo 25,00M€, ou seja, são bem valiosos mesmo valendo 7 vezes menos que os mais valiosos e isso irá influenciar em algumas de nossas análises."
   ]
  },
  {
   "cell_type": "markdown",
   "metadata": {},
   "source": [
    "___\n",
    "## MINERANDO DADOS e CARACTERÍSTICAS DO DATASET"
   ]
  },
  {
   "cell_type": "code",
   "execution_count": 351,
   "metadata": {
    "collapsed": true
   },
   "outputs": [],
   "source": [
    "import pandas as pd\n",
    "import os\n",
    "import matplotlib.pyplot as plt\n",
    "import numpy as np\n",
    "from numpy import arange\n",
    "from sklearn.model_selection import train_test_split\n",
    "pd.options.mode.chained_assignment = None"
   ]
  },
  {
   "cell_type": "code",
   "execution_count": 352,
   "metadata": {},
   "outputs": [
    {
     "name": "stdout",
     "output_type": "stream",
     "text": [
      "Esperamos trabalhar no diretório\n",
      "C:\\Users\\Leonardo\\Documents\\INSPER\\CiDadosDP\\Projetos\\Projeto 3\n"
     ]
    }
   ],
   "source": [
    "print('Esperamos trabalhar no diretório')\n",
    "print(os.getcwd())"
   ]
  },
  {
   "cell_type": "markdown",
   "metadata": {},
   "source": [
    "### BASE DE DADOS"
   ]
  },
  {
   "cell_type": "code",
   "execution_count": 353,
   "metadata": {
    "collapsed": true
   },
   "outputs": [],
   "source": [
    "dados = pd.read_excel('jogadores.xlsx')"
   ]
  },
  {
   "cell_type": "code",
   "execution_count": 354,
   "metadata": {},
   "outputs": [
    {
     "data": {
      "text/plain": [
       "Rank                                       int64\n",
       "Jogador                                   object\n",
       "Posição                                    int64\n",
       "Idade                                      int64\n",
       "Valor de Mercado (em milhões de euros)     int64\n",
       "Jogos                                      int64\n",
       "Gols                                       int64\n",
       "Assistencias                               int64\n",
       "dtype: object"
      ]
     },
     "execution_count": 354,
     "metadata": {},
     "output_type": "execute_result"
    }
   ],
   "source": [
    "dados.dtypes"
   ]
  },
  {
   "cell_type": "code",
   "execution_count": 355,
   "metadata": {},
   "outputs": [
    {
     "name": "stdout",
     "output_type": "stream",
     "text": [
      "Base de dados com a qual trabalharemos:\n"
     ]
    },
    {
     "data": {
      "text/html": [
       "<div>\n",
       "<style>\n",
       "    .dataframe thead tr:only-child th {\n",
       "        text-align: right;\n",
       "    }\n",
       "\n",
       "    .dataframe thead th {\n",
       "        text-align: left;\n",
       "    }\n",
       "\n",
       "    .dataframe tbody tr th {\n",
       "        vertical-align: top;\n",
       "    }\n",
       "</style>\n",
       "<table border=\"1\" class=\"dataframe\">\n",
       "  <thead>\n",
       "    <tr style=\"text-align: right;\">\n",
       "      <th></th>\n",
       "      <th>Rank</th>\n",
       "      <th>Jogador</th>\n",
       "      <th>Posição</th>\n",
       "      <th>Idade</th>\n",
       "      <th>Valor de Mercado (em milhões de euros)</th>\n",
       "      <th>Jogos</th>\n",
       "      <th>Gols</th>\n",
       "      <th>Assistencias</th>\n",
       "    </tr>\n",
       "  </thead>\n",
       "  <tbody>\n",
       "    <tr>\n",
       "      <th>0</th>\n",
       "      <td>1</td>\n",
       "      <td>Neymar</td>\n",
       "      <td>1</td>\n",
       "      <td>26</td>\n",
       "      <td>180</td>\n",
       "      <td>32</td>\n",
       "      <td>29</td>\n",
       "      <td>19</td>\n",
       "    </tr>\n",
       "    <tr>\n",
       "      <th>1</th>\n",
       "      <td>2</td>\n",
       "      <td>Lionel Messi</td>\n",
       "      <td>2</td>\n",
       "      <td>30</td>\n",
       "      <td>180</td>\n",
       "      <td>55</td>\n",
       "      <td>45</td>\n",
       "      <td>18</td>\n",
       "    </tr>\n",
       "    <tr>\n",
       "      <th>2</th>\n",
       "      <td>3</td>\n",
       "      <td>Kylian Mbappé</td>\n",
       "      <td>2</td>\n",
       "      <td>19</td>\n",
       "      <td>120</td>\n",
       "      <td>50</td>\n",
       "      <td>23</td>\n",
       "      <td>19</td>\n",
       "    </tr>\n",
       "    <tr>\n",
       "      <th>3</th>\n",
       "      <td>4</td>\n",
       "      <td>Harry Kane</td>\n",
       "      <td>3</td>\n",
       "      <td>24</td>\n",
       "      <td>120</td>\n",
       "      <td>48</td>\n",
       "      <td>41</td>\n",
       "      <td>5</td>\n",
       "    </tr>\n",
       "    <tr>\n",
       "      <th>4</th>\n",
       "      <td>5</td>\n",
       "      <td>Cristiano Ronaldo</td>\n",
       "      <td>3</td>\n",
       "      <td>33</td>\n",
       "      <td>120</td>\n",
       "      <td>45</td>\n",
       "      <td>46</td>\n",
       "      <td>8</td>\n",
       "    </tr>\n",
       "  </tbody>\n",
       "</table>\n",
       "</div>"
      ],
      "text/plain": [
       "   Rank            Jogador  Posição  Idade  \\\n",
       "0     1             Neymar        1     26   \n",
       "1     2       Lionel Messi        2     30   \n",
       "2     3      Kylian Mbappé        2     19   \n",
       "3     4         Harry Kane        3     24   \n",
       "4     5  Cristiano Ronaldo        3     33   \n",
       "\n",
       "   Valor de Mercado (em milhões de euros)  Jogos  Gols  Assistencias  \n",
       "0                                     180     32    29            19  \n",
       "1                                     180     55    45            18  \n",
       "2                                     120     50    23            19  \n",
       "3                                     120     48    41             5  \n",
       "4                                     120     45    46             8  "
      ]
     },
     "execution_count": 355,
     "metadata": {},
     "output_type": "execute_result"
    }
   ],
   "source": [
    "print('Base de dados com a qual trabalharemos:')\n",
    "dados.head()"
   ]
  },
  {
   "cell_type": "code",
   "execution_count": 356,
   "metadata": {},
   "outputs": [
    {
     "name": "stdout",
     "output_type": "stream",
     "text": [
      "Legenda das posições:\n",
      "1\tPonta Esquerda\n",
      "2\tPonta Direita\n",
      "3\tCentro-Avante\n",
      "4\tMeia Atacante\n",
      "5\tSegundo Atacante\n",
      "6\tMeio Campo\n",
      "7\tVolante\n",
      "8\tGoleiro\n",
      "9\tZagueiro\n",
      "10\tLateral Direito\n",
      "11\tLateral Esquerdo\n",
      "12\tMeia Direita\n",
      "13\tMeia Esquerda\n"
     ]
    }
   ],
   "source": [
    "print('''Legenda das posições:\n",
    "1\tPonta Esquerda\n",
    "2\tPonta Direita\n",
    "3\tCentro-Avante\n",
    "4\tMeia Atacante\n",
    "5\tSegundo Atacante\n",
    "6\tMeio Campo\n",
    "7\tVolante\n",
    "8\tGoleiro\n",
    "9\tZagueiro\n",
    "10\tLateral Direito\n",
    "11\tLateral Esquerdo\n",
    "12\tMeia Direita\n",
    "13\tMeia Esquerda''')"
   ]
  },
  {
   "cell_type": "markdown",
   "metadata": {},
   "source": [
    "Para fazer nosso projeto, criamos a base de dados acima a partir dos dados do https://www.transfermarkt.pt/. Para fazer esta coleta de dados utilizamos o programa WebHarvy. A base de dados, que possui o rank dos 200 jogadores mais valiosos do mundo, possui como colunas a posição no rank do jogador (Rank), o nome do jogador (Jogador), a Posição a qual o jogador atua (Posição), a idade do jogador (Idade), o valor de mercado do jogador (Valor de Mercado (em milhões de euros), os jogos que o jogador atuou na temporada (Jogos), os gols e as assistências que ele obteve na temporada (Gols e Assistencias, respectivamente). A partir dos dados dessa base, queremos obter e analisar como os fatores posição, idade, jogos, gols e assistências influenciam no valor de mercado de um jogador. "
   ]
  },
  {
   "cell_type": "code",
   "execution_count": 357,
   "metadata": {
    "collapsed": true
   },
   "outputs": [],
   "source": [
    "dados.columns = ['Rank','Jogador','posição','idade','valor','jogos','gols','assistencias']"
   ]
  },
  {
   "cell_type": "code",
   "execution_count": 358,
   "metadata": {},
   "outputs": [
    {
     "data": {
      "text/html": [
       "<div>\n",
       "<style>\n",
       "    .dataframe thead tr:only-child th {\n",
       "        text-align: right;\n",
       "    }\n",
       "\n",
       "    .dataframe thead th {\n",
       "        text-align: left;\n",
       "    }\n",
       "\n",
       "    .dataframe tbody tr th {\n",
       "        vertical-align: top;\n",
       "    }\n",
       "</style>\n",
       "<table border=\"1\" class=\"dataframe\">\n",
       "  <thead>\n",
       "    <tr style=\"text-align: right;\">\n",
       "      <th></th>\n",
       "      <th>posição</th>\n",
       "      <th>idade</th>\n",
       "      <th>valor</th>\n",
       "      <th>jogos</th>\n",
       "      <th>gols</th>\n",
       "      <th>assistencias</th>\n",
       "    </tr>\n",
       "  </thead>\n",
       "  <tbody>\n",
       "    <tr>\n",
       "      <th>0</th>\n",
       "      <td>1</td>\n",
       "      <td>26</td>\n",
       "      <td>180</td>\n",
       "      <td>32</td>\n",
       "      <td>29</td>\n",
       "      <td>19</td>\n",
       "    </tr>\n",
       "    <tr>\n",
       "      <th>1</th>\n",
       "      <td>2</td>\n",
       "      <td>30</td>\n",
       "      <td>180</td>\n",
       "      <td>55</td>\n",
       "      <td>45</td>\n",
       "      <td>18</td>\n",
       "    </tr>\n",
       "    <tr>\n",
       "      <th>2</th>\n",
       "      <td>2</td>\n",
       "      <td>19</td>\n",
       "      <td>120</td>\n",
       "      <td>50</td>\n",
       "      <td>23</td>\n",
       "      <td>19</td>\n",
       "    </tr>\n",
       "    <tr>\n",
       "      <th>3</th>\n",
       "      <td>3</td>\n",
       "      <td>24</td>\n",
       "      <td>120</td>\n",
       "      <td>48</td>\n",
       "      <td>41</td>\n",
       "      <td>5</td>\n",
       "    </tr>\n",
       "    <tr>\n",
       "      <th>4</th>\n",
       "      <td>3</td>\n",
       "      <td>33</td>\n",
       "      <td>120</td>\n",
       "      <td>45</td>\n",
       "      <td>46</td>\n",
       "      <td>8</td>\n",
       "    </tr>\n",
       "  </tbody>\n",
       "</table>\n",
       "</div>"
      ],
      "text/plain": [
       "   posição  idade  valor  jogos  gols  assistencias\n",
       "0        1     26    180     32    29            19\n",
       "1        2     30    180     55    45            18\n",
       "2        2     19    120     50    23            19\n",
       "3        3     24    120     48    41             5\n",
       "4        3     33    120     45    46             8"
      ]
     },
     "execution_count": 358,
     "metadata": {},
     "output_type": "execute_result"
    }
   ],
   "source": [
    "#Filtrando a base de dados para ficarem apenas as variáveis que utilizaremos\n",
    "dados_filtro = dados.iloc[0:,[2,3,4,5,6,7]]\n",
    "dados_filtro.head()"
   ]
  },
  {
   "cell_type": "markdown",
   "metadata": {},
   "source": [
    "### ANÁLISE DESCRITIVA"
   ]
  },
  {
   "cell_type": "code",
   "execution_count": 359,
   "metadata": {},
   "outputs": [
    {
     "data": {
      "image/png": "[encoded data removed]",
      "text/plain": [
       "<matplotlib.figure.Figure at 0x1e4771b1ef0>"
      ]
     },
     "metadata": {},
     "output_type": "display_data"
    }
   ],
   "source": [
    "x = plt.scatter(dados_filtro['idade'], dados_filtro['valor'] )\n",
    "plt.xlabel('idade dos jogadores')\n",
    "plt.ylabel('valor de mercado')\n",
    "plt.title('Valor x Idade')\n",
    "plt.show(x)\n"
   ]
  },
  {
   "cell_type": "markdown",
   "metadata": {},
   "source": [
    "O gráfico acima nos mostra como a idade de um jogador influencia no valor dele. Podemos ver que a maioria dos 200 jogadores mais valiosos se encontra na faixa dos 24 aos 26 anos que é, normalmente, a idade em que os jogadores possuem o auge de suas carreiras. Os jogadores que possuem idade abaixo dessa faixa, são jogadores considerados promissores, alguns deles podendo chegar entre os melhores do mundo futuramente, por isso possuem valores altos já com essa idade. Os jogadores que com 28 anos ou mais ainda são valiosos, são, em sua maioria, jogadores já consagrados no futebol e que conseguem manter um alto nível de futebol. Podemos observar que são poucos os que conseguem se manter nos top 200, com idade mais \"avançada\" (acima dos 30 anos), pois, além da natural queda de rendimento, o jogador deixa de ser considerado um investimento de longo prazo."
   ]
  },
  {
   "cell_type": "code",
   "execution_count": 360,
   "metadata": {},
   "outputs": [
    {
     "data": {
      "image/png": "[encoded data removed]",
      "text/plain": [
       "<matplotlib.figure.Figure at 0x1e476e6f978>"
      ]
     },
     "metadata": {},
     "output_type": "display_data"
    }
   ],
   "source": [
    "k = plt.scatter(dados_filtro['gols'], dados_filtro['valor'] )\n",
    "plt.xlabel('gols marcados pelos jogadores')\n",
    "plt.ylabel('valor de mercado')\n",
    "plt.title('Valor x Gols')\n",
    "plt.show(k)"
   ]
  },
  {
   "cell_type": "markdown",
   "metadata": {},
   "source": [
    "O gráfico acima nos mostra como os gols marcados por um jogador pode influenciar em seu valor. Neste gráfico há mais coisas necessárias pra se levar em conta: jogadores de defesa tendem a fazer poucos gols na temporada e goleiros dificilmente farão algum gol na temporada. Por esses motivos boa parte dos jogadores mais valiosos possuem menos de 10 gols na temporada. Mesmo assim, podemos perceber o valor dos jogadores que possuem mais gols tende a ser maior, além da maioria dos jogadores com menos de 10 gols estar concentrada em valores de 40M€ pra baixo, os jogadores com mais de 20 gols estão em boa parte acima dos 60M€."
   ]
  },
  {
   "cell_type": "code",
   "execution_count": 361,
   "metadata": {},
   "outputs": [
    {
     "data": {
      "image/png": "[encoded data removed]",
      "text/plain": [
       "<matplotlib.figure.Figure at 0x1e4771a2278>"
      ]
     },
     "metadata": {},
     "output_type": "display_data"
    }
   ],
   "source": [
    "u = plt.scatter(dados_filtro['assistencias'] , y)\n",
    "plt.xlabel('assistencias feitas pelos jogadores')\n",
    "plt.ylabel('valor de mercado')\n",
    "plt.title('Valor x Assistencias')\n",
    "plt.show(u)"
   ]
  },
  {
   "cell_type": "markdown",
   "metadata": {},
   "source": [
    "O gráfico acima nos mostra como as assistências de um jogador pode influenciar em seu valor. Por mais que estejam mais distribuídos, é perceptível que conforme mais assistências o jogador deu, maior seu valor de mercado. Dos 20 jogadores quem valem pelo menos 80M€, 14 deles deram pelo menos 10 assistências na temporada. "
   ]
  },
  {
   "cell_type": "code",
   "execution_count": 362,
   "metadata": {},
   "outputs": [
    {
     "data": {
      "image/png": "[encoded data removed]",
      "text/plain": [
       "<matplotlib.figure.Figure at 0x1e476f624a8>"
      ]
     },
     "metadata": {},
     "output_type": "display_data"
    }
   ],
   "source": [
    "i = plt.scatter(dados_filtro['jogos'] , y)\n",
    "plt.xlabel('quantidade de jogos feitos pelos jogadores')\n",
    "plt.ylabel('valor de mercado')\n",
    "plt.title('Valor x Jogos')\n",
    "plt.show(i)"
   ]
  },
  {
   "cell_type": "markdown",
   "metadata": {},
   "source": [
    "O gráfico acima nos mostra como a quantidade de jogos disputados por um jogador pode influenciar em seu valor. Como o gráfico mostra bem, dificilmente um jogador que faça poucos jogos venha a ser valioso, pois os jogadores mais valiosos tendem a ser os melhores e, portanto os mais utilizados. As raras excessões podem ser jogadores que tiveram graves lesões e perderam a maioria da temporada ou jogadores que tiveram boas temporadas anteriormente porém viraram reservas de jogadores melhores em grandes clubes. "
   ]
  },
  {
   "cell_type": "code",
   "execution_count": 363,
   "metadata": {
    "scrolled": true
   },
   "outputs": [
    {
     "data": {
      "image/png": "[encoded data removed]",
      "text/plain": [
       "<matplotlib.figure.Figure at 0x1e476e6f400>"
      ]
     },
     "metadata": {},
     "output_type": "display_data"
    }
   ],
   "source": [
    "dados_filtro['posição'][(dados_filtro['posição'] ==1) | (dados_filtro['posição'] ==2) | (dados_filtro['posição']==3)] = [1]\n",
    "dados_filtro['posição'][(dados_filtro['posição'] ==4) | (dados_filtro['posição'] ==5) | (dados_filtro['posição']==6) | (dados_filtro['posição']==7) | (dados_filtro['posição'] ==12) | (dados_filtro['posição'] ==13)] = [2]\n",
    "dados_filtro['posição'][(dados_filtro['posição'] ==8)] = [3]\n",
    "dados_filtro['posição'][(dados_filtro['posição'] ==9) | (dados_filtro['posição'] ==10) | (dados_filtro['posição']==11)] = [4] \n",
    "\n",
    "dados_filtro['posição']=dados_filtro['posição'].astype(\"category\")\n",
    "dados_filtro['posição'].cat.categories=(\"Atacantes\",\"Meio_campistas\",\"Goleiros\",\"Defensores\")\n",
    "\n",
    "w = dados_filtro.boxplot(column='valor',by='posição')\n",
    "plt.ylabel('valor de mercado')\n",
    "plt.title('Valor x Posição')\n",
    "plt.show(w)"
   ]
  },
  {
   "cell_type": "markdown",
   "metadata": {},
   "source": [
    "O gráfico acima nos mostra como a posição de um jogador pode influenciar em seu valor. Podemos perceber a partir do gráfico que os jogadores de posições mais ofensivas (atacantes e meio campistas), tendem a possuir um valor de mercado maior do que os de posições mais defensivas. Isso se da devido ao fato de eles serem os principais responsáveis para que o time marque gols. Defensores e Goleiros, por mais que muito importantes a um time, tendem a ser desvalorizados em relação ao seu valor pois os homens de frente que normalmente ganham os holofotes."
   ]
  },
  {
   "cell_type": "markdown",
   "metadata": {},
   "source": [
    "___\n",
    "## MODELOS DE PREDIÇÃO"
   ]
  },
  {
   "cell_type": "markdown",
   "metadata": {
    "collapsed": true
   },
   "source": [
    "Agora iremos criar modelos de predição que irão prever o valor do jogador com base em seus números da temporada (jogos, gols e assistências), sua idade e sua posição. \n",
    "Faremos dois destes modelos, um mais simples e menos preciso e um mais sofisticado e com uma melhor precisão e perfomance. Esses modelos estão listados abaixo respectivamente."
   ]
  },
  {
   "cell_type": "markdown",
   "metadata": {
    "collapsed": true
   },
   "source": [
    "o MODELO DE PREDIÇÃO PELA MÉDIA\n",
    "\n",
    "o MODELO DE REGRESSÃO LINEAR (Multiple Linear Regression)"
   ]
  },
  {
   "cell_type": "markdown",
   "metadata": {
    "collapsed": true
   },
   "source": [
    "Modelo de Predição pela Média:"
   ]
  },
  {
   "cell_type": "code",
   "execution_count": 364,
   "metadata": {
    "collapsed": true
   },
   "outputs": [],
   "source": [
    "#Dividindo a base de dados em 90% para treinamento e 10% para teste\n",
    "treinamento, teste = train_test_split(dados_filtro, test_size=0.1)"
   ]
  },
  {
   "cell_type": "code",
   "execution_count": 450,
   "metadata": {},
   "outputs": [
    {
     "name": "stdout",
     "output_type": "stream",
     "text": [
      "48.666666666666664\n"
     ]
    }
   ],
   "source": [
    "#Modelo de Predição pela média\n",
    "#Achando a média dos valores de mercado de cada jogador\n",
    "media=treinamento['valor'].mean()\n",
    "print(media)"
   ]
  },
  {
   "cell_type": "code",
   "execution_count": 451,
   "metadata": {},
   "outputs": [
    {
     "data": {
      "text/plain": [
       "0.0"
      ]
     },
     "execution_count": 451,
     "metadata": {},
     "output_type": "execute_result"
    }
   ],
   "source": [
    "#Aplicando o R^2\n",
    "valor = (teste['valor'] - media)**2\n",
    "r2 = 1 - (valor.sum()/valor.sum())\n",
    "r2"
   ]
  },
  {
   "cell_type": "code",
   "execution_count": 452,
   "metadata": {},
   "outputs": [
    {
     "data": {
      "text/plain": [
       "19.04628864401438"
      ]
     },
     "execution_count": 452,
     "metadata": {},
     "output_type": "execute_result"
    }
   ],
   "source": [
    "#Aplicando o RMS\n",
    "rms = (valor.sum()/20)**0.5\n",
    "rms"
   ]
  },
  {
   "cell_type": "markdown",
   "metadata": {
    "collapsed": true
   },
   "source": [
    "Modelo de Regressão Linear:"
   ]
  },
  {
   "cell_type": "code",
   "execution_count": 453,
   "metadata": {
    "collapsed": true
   },
   "outputs": [],
   "source": [
    "#Separar em variáveis independentes e a variável dependente\n",
    "X = dados_filtro.iloc[0:,[0,1,3,4,5]].values #Variáveis independentes\n",
    "y = dados_filtro.iloc[0:,2].values #Variável dependente (Valor do jogador)"
   ]
  },
  {
   "cell_type": "code",
   "execution_count": 454,
   "metadata": {
    "collapsed": true
   },
   "outputs": [],
   "source": [
    "#Codificação da variável posição (de string para float)\n",
    "from sklearn.preprocessing import LabelEncoder, OneHotEncoder\n",
    "labelencoder_X = LabelEncoder()\n",
    "X[:,0] = labelencoder_X.fit_transform(X[:,0])\n",
    "onehotencoder = OneHotEncoder(categorical_features = [0])\n",
    "X = onehotencoder.fit_transform(X).toarray()"
   ]
  },
  {
   "cell_type": "code",
   "execution_count": 455,
   "metadata": {
    "collapsed": true
   },
   "outputs": [],
   "source": [
    "#Dividindo a base de dados em 90% para treinamento e 10% para teste para as variaveis independentes (X) e para as variável dependente(y)\n",
    "X_treino, X_teste, y_treino, y_teste = train_test_split(X, y, test_size=0.1, random_state = 0)"
   ]
  },
  {
   "cell_type": "code",
   "execution_count": 456,
   "metadata": {},
   "outputs": [
    {
     "data": {
      "text/plain": [
       "LinearRegression(copy_X=True, fit_intercept=True, n_jobs=1, normalize=False)"
      ]
     },
     "execution_count": 456,
     "metadata": {},
     "output_type": "execute_result"
    }
   ],
   "source": [
    "#Aplicando a Regressão Linear Multipla do sklearn na base trenamento\n",
    "from sklearn.linear_model import LinearRegression\n",
    "regressor = LinearRegression()\n",
    "regressor.fit(X_treino, y_treino)"
   ]
  },
  {
   "cell_type": "code",
   "execution_count": 457,
   "metadata": {},
   "outputs": [
    {
     "data": {
      "text/plain": [
       "array([ 32.65587543,  35.08483692,  36.84098629,  43.17638167,\n",
       "        40.96293494,  55.08098753,  68.58821445,  54.38969712,\n",
       "        77.829266  ,  46.49009046,  59.980539  ,  39.5181545 ,\n",
       "        53.77925603,  39.83040632,  51.0680825 ,  80.61775404,\n",
       "        64.32501166,  47.58372588,  47.80729869,  46.99688492])"
      ]
     },
     "execution_count": 457,
     "metadata": {},
     "output_type": "execute_result"
    }
   ],
   "source": [
    "#Prevendo os resultados dos dados teste\n",
    "y_pred = regressor.predict(X_teste)\n",
    "y_pred"
   ]
  },
  {
   "cell_type": "code",
   "execution_count": 458,
   "metadata": {
    "collapsed": true
   },
   "outputs": [],
   "source": [
    "#Transformado o array(predição dos valores) e a coluna(teste['valor']) em lista\n",
    "lista_y = y_pred.tolist()\n",
    "lista_v = teste['valor'].tolist()\n",
    "media2 = 0\n",
    "for i in range(len(lista_v)):\n",
    "    media2 = media2 +lista_v[i]\n",
    "media_f = media2/20\n",
    "lista_R = []\n",
    "for j in range(len(lista_y)):\n",
    "    R12 = (lista_v[j] - lista_y[j])**2\n",
    "    lista_R.append(R12)\n",
    "teste['valor_estipulado'] = lista_R\n",
    "div_f0 = teste['valor_estipulado'].sum()\n"
   ]
  },
  {
   "cell_type": "code",
   "execution_count": 459,
   "metadata": {},
   "outputs": [
    {
     "name": "stdout",
     "output_type": "stream",
     "text": [
      "O valor de RMS na regressão linear é 25.63308324961919\n"
     ]
    }
   ],
   "source": [
    "#Calculando o RMS\n",
    "RMS2 = (div_f0/20)**0.5\n",
    "print('O valor de RMS na regressão linear é {0}'.format(RMS2))"
   ]
  },
  {
   "cell_type": "code",
   "execution_count": 460,
   "metadata": {
    "collapsed": true
   },
   "outputs": [],
   "source": [
    "import statsmodels.api as sm\n",
    "from statsmodels.formula.api import ols\n",
    "from statsmodels.sandbox.regression.predstd import wls_prediction_std"
   ]
  },
  {
   "cell_type": "code",
   "execution_count": 461,
   "metadata": {
    "scrolled": true
   },
   "outputs": [
    {
     "data": {
      "text/html": [
       "<table class=\"simpletable\">\n",
       "<caption>OLS Regression Results</caption>\n",
       "<tr>\n",
       "  <th>Dep. Variable:</th>          <td>valor</td>      <th>  R-squared:         </th> <td>   0.441</td>\n",
       "</tr>\n",
       "<tr>\n",
       "  <th>Model:</th>                   <td>OLS</td>       <th>  Adj. R-squared:    </th> <td>   0.418</td>\n",
       "</tr>\n",
       "<tr>\n",
       "  <th>Method:</th>             <td>Least Squares</td>  <th>  F-statistic:       </th> <td>   19.35</td>\n",
       "</tr>\n",
       "<tr>\n",
       "  <th>Date:</th>             <td>Tue, 05 Jun 2018</td> <th>  Prob (F-statistic):</th> <td>5.93e-19</td>\n",
       "</tr>\n",
       "<tr>\n",
       "  <th>Time:</th>                 <td>17:11:24</td>     <th>  Log-Likelihood:    </th> <td> -782.33</td>\n",
       "</tr>\n",
       "<tr>\n",
       "  <th>No. Observations:</th>      <td>   180</td>      <th>  AIC:               </th> <td>   1581.</td>\n",
       "</tr>\n",
       "<tr>\n",
       "  <th>Df Residuals:</th>          <td>   172</td>      <th>  BIC:               </th> <td>   1606.</td>\n",
       "</tr>\n",
       "<tr>\n",
       "  <th>Df Model:</th>              <td>     7</td>      <th>                     </th>     <td> </td>   \n",
       "</tr>\n",
       "<tr>\n",
       "  <th>Covariance Type:</th>      <td>nonrobust</td>    <th>                     </th>     <td> </td>   \n",
       "</tr>\n",
       "</table>\n",
       "<table class=\"simpletable\">\n",
       "<tr>\n",
       "              <td></td>                 <th>coef</th>     <th>std err</th>      <th>t</th>      <th>P>|t|</th>  <th>[0.025</th>    <th>0.975]</th>  \n",
       "</tr>\n",
       "<tr>\n",
       "  <th>Intercept</th>                 <td>    8.8561</td> <td>   13.052</td> <td>    0.679</td> <td> 0.498</td> <td>  -16.907</td> <td>   34.619</td>\n",
       "</tr>\n",
       "<tr>\n",
       "  <th>posição[T.Meio_campistas]</th> <td>    6.8450</td> <td>    4.234</td> <td>    1.617</td> <td> 0.108</td> <td>   -1.512</td> <td>   15.202</td>\n",
       "</tr>\n",
       "<tr>\n",
       "  <th>posição[T.Goleiros]</th>       <td>   36.1471</td> <td>    9.443</td> <td>    3.828</td> <td> 0.000</td> <td>   17.508</td> <td>   54.786</td>\n",
       "</tr>\n",
       "<tr>\n",
       "  <th>posição[T.Defensores]</th>     <td>   15.3246</td> <td>    5.194</td> <td>    2.950</td> <td> 0.004</td> <td>    5.073</td> <td>   25.577</td>\n",
       "</tr>\n",
       "<tr>\n",
       "  <th>idade</th>                     <td>    0.3794</td> <td>    0.436</td> <td>    0.869</td> <td> 0.386</td> <td>   -0.482</td> <td>    1.241</td>\n",
       "</tr>\n",
       "<tr>\n",
       "  <th>jogos</th>                     <td>   -0.0194</td> <td>    0.169</td> <td>   -0.115</td> <td> 0.909</td> <td>   -0.354</td> <td>    0.315</td>\n",
       "</tr>\n",
       "<tr>\n",
       "  <th>gols</th>                      <td>    1.5567</td> <td>    0.199</td> <td>    7.836</td> <td> 0.000</td> <td>    1.165</td> <td>    1.949</td>\n",
       "</tr>\n",
       "<tr>\n",
       "  <th>assistencias</th>              <td>    1.2680</td> <td>    0.362</td> <td>    3.504</td> <td> 0.001</td> <td>    0.554</td> <td>    1.982</td>\n",
       "</tr>\n",
       "</table>\n",
       "<table class=\"simpletable\">\n",
       "<tr>\n",
       "  <th>Omnibus:</th>       <td>38.616</td> <th>  Durbin-Watson:     </th> <td>   2.158</td>\n",
       "</tr>\n",
       "<tr>\n",
       "  <th>Prob(Omnibus):</th> <td> 0.000</td> <th>  Jarque-Bera (JB):  </th> <td> 118.399</td>\n",
       "</tr>\n",
       "<tr>\n",
       "  <th>Skew:</th>          <td> 0.828</td> <th>  Prob(JB):          </th> <td>1.95e-26</td>\n",
       "</tr>\n",
       "<tr>\n",
       "  <th>Kurtosis:</th>      <td> 6.611</td> <th>  Cond. No.          </th> <td>    484.</td>\n",
       "</tr>\n",
       "</table>"
      ],
      "text/plain": [
       "<class 'statsmodels.iolib.summary.Summary'>\n",
       "\"\"\"\n",
       "                            OLS Regression Results                            \n",
       "==============================================================================\n",
       "Dep. Variable:                  valor   R-squared:                       0.441\n",
       "Model:                            OLS   Adj. R-squared:                  0.418\n",
       "Method:                 Least Squares   F-statistic:                     19.35\n",
       "Date:                Tue, 05 Jun 2018   Prob (F-statistic):           5.93e-19\n",
       "Time:                        17:11:24   Log-Likelihood:                -782.33\n",
       "No. Observations:                 180   AIC:                             1581.\n",
       "Df Residuals:                     172   BIC:                             1606.\n",
       "Df Model:                           7                                         \n",
       "Covariance Type:            nonrobust                                         \n",
       "=============================================================================================\n",
       "                                coef    std err          t      P>|t|      [0.025      0.975]\n",
       "---------------------------------------------------------------------------------------------\n",
       "Intercept                     8.8561     13.052      0.679      0.498     -16.907      34.619\n",
       "posição[T.Meio_campistas]     6.8450      4.234      1.617      0.108      -1.512      15.202\n",
       "posição[T.Goleiros]          36.1471      9.443      3.828      0.000      17.508      54.786\n",
       "posição[T.Defensores]        15.3246      5.194      2.950      0.004       5.073      25.577\n",
       "idade                         0.3794      0.436      0.869      0.386      -0.482       1.241\n",
       "jogos                        -0.0194      0.169     -0.115      0.909      -0.354       0.315\n",
       "gols                          1.5567      0.199      7.836      0.000       1.165       1.949\n",
       "assistencias                  1.2680      0.362      3.504      0.001       0.554       1.982\n",
       "==============================================================================\n",
       "Omnibus:                       38.616   Durbin-Watson:                   2.158\n",
       "Prob(Omnibus):                  0.000   Jarque-Bera (JB):              118.399\n",
       "Skew:                           0.828   Prob(JB):                     1.95e-26\n",
       "Kurtosis:                       6.611   Cond. No.                         484.\n",
       "==============================================================================\n",
       "\n",
       "Warnings:\n",
       "[1] Standard Errors assume that the covariance matrix of the errors is correctly specified.\n",
       "\"\"\""
      ]
     },
     "execution_count": 461,
     "metadata": {},
     "output_type": "execute_result"
    }
   ],
   "source": [
    "#Fazendo a regressão por OLS e printando o Summary\n",
    "regr = ols('valor ~ posição + idade + jogos + gols + assistencias',data = treinamento).fit()\n",
    "regr.summary()"
   ]
  },
  {
   "cell_type": "code",
   "execution_count": 462,
   "metadata": {},
   "outputs": [
    {
     "name": "stdout",
     "output_type": "stream",
     "text": [
      "O valor de RMS na regressão linear é 26.064082469966912\n"
     ]
    }
   ],
   "source": [
    "#Calculando o RMS da regressão por OLS\n",
    "pred = regr1.predict(X_teste)\n",
    "\n",
    "lista_p = pred.tolist()\n",
    "lista_V = []\n",
    "for c in range(len(lista_p)):\n",
    "    R123 = (lista_v[c] - lista_p[c])**2\n",
    "    lista_V.append(R123)\n",
    "teste['valor_est'] = lista_V\n",
    "soma = teste['valor_est'].sum()\n",
    "\n",
    "RMS3 = (soma/20)**0.5\n",
    "print('O valor de RMS na regressão linear é {0}'.format(RMS3))\n"
   ]
  },
  {
   "cell_type": "markdown",
   "metadata": {},
   "source": [
    "O valor de R² da regressão por OLS pode ser visto no Summary como R-squared"
   ]
  },
  {
   "cell_type": "markdown",
   "metadata": {},
   "source": [
    "___\n",
    "## CONCLUSÃO"
   ]
  },
  {
   "cell_type": "markdown",
   "metadata": {
    "collapsed": true
   },
   "source": [
    "Após análise dos resultados gerados pelo modelo de regressão linear e de seus testes de performance podemos verificar que os valores de mercado gerados por ele, não coincidem com os valores reais dos jogadores, porém isso não quer dizer que o modelo de predição esta ruim. O modelo gera quais seriam os valores dos jogadores baseado apenas em numeros da temporada atual, idade e posição do jogador, não considerando como o jogador se saiu em temporadas passadas, afinal um jogador começa uma nova temporada com seu valor baseado no que ja fez em temporadas anteriores. Fatores como clube em que joga e disciplina do jogador também são fatores importantes que influenciam em seu valor de mercado. "
   ]
  },
  {
   "cell_type": "markdown",
   "metadata": {},
   "source": [
    "___\n",
    "## REFERÊNCIAS BIBLIOGRÁFICAS"
   ]
  },
  {
   "cell_type": "markdown",
   "metadata": {
    "collapsed": true
   },
   "source": [
    "https://www.transfermarkt.pt/"
   ]
  },
  {
   "cell_type": "code",
   "execution_count": null,
   "metadata": {
    "collapsed": true
   },
   "outputs": [],
   "source": []
  },
  {
   "cell_type": "code",
   "execution_count": null,
   "metadata": {
    "collapsed": true
   },
   "outputs": [],
   "source": []
  },
  {
   "cell_type": "code",
   "execution_count": null,
   "metadata": {
    "collapsed": true
   },
   "outputs": [],
   "source": []
  }
 ],
 "metadata": {
  "anaconda-cloud": {},
  "kernelspec": {
   "display_name": "Python 3",
   "language": "python",
   "name": "python3"
  },
  "language_info": {
   "codemirror_mode": {
    "name": "ipython",
    "version": 3
   },
   "file_extension": ".py",
   "mimetype": "text/x-python",
   "name": "python",
   "nbconvert_exporter": "python",
   "pygments_lexer": "ipython3",
   "version": "3.6.0"
  }
 },
 "nbformat": 4,
 "nbformat_minor": 1
}
